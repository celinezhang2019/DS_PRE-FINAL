{
 "cells": [
  {
   "cell_type": "code",
   "execution_count": 1,
   "metadata": {},
   "outputs": [],
   "source": [
    "%%capture\n",
    "import keras\n",
    "import keras.backend as K\n",
    "from keras.models import Model\n",
    "from keras.layers import Input, Dense, Conv2D, Conv3D, DepthwiseConv2D, SeparableConv2D, Conv3DTranspose\n",
    "from keras.layers import Flatten, MaxPool2D, AvgPool2D, GlobalAvgPool2D, UpSampling2D, BatchNormalization\n",
    "from keras.layers import Concatenate, Add, Dropout, ReLU, Lambda, Activation, LeakyReLU, PReLU\n",
    "from keras.utils import np_utils\n",
    "from IPython.display import SVG\n",
    "from keras.utils.vis_utils import model_to_dot\n",
    "from keras.optimizers import SGD\n",
    "from time import time\n",
    "from keras.callbacks import EarlyStopping\n",
    "from sklearn.metrics import confusion_matrix, f1_score, precision_score, recall_score\n",
    "from keras.callbacks import Callback\n",
    "from keras.preprocessing.image import ImageDataGenerator\n",
    "\n",
    "import numpy as np\n",
    "import pandas as pd\n",
    "import matplotlib, os, math\n",
    "\n",
    "os.environ[\"CUDA_VISIBLE_DEVICES\"]=\"0,1\""
   ]
  },
  {
   "cell_type": "markdown",
   "metadata": {},
   "source": [
    "### 1.Prepare data"
   ]
  },
  {
   "cell_type": "code",
   "execution_count": 2,
   "metadata": {},
   "outputs": [
    {
     "name": "stdout",
     "output_type": "stream",
     "text": [
      "Loading X_train...\n",
      "Running time: 845.8607401847839 seconds\n"
     ]
    }
   ],
   "source": [
    "from time import time\n",
    "import numpy as np\n",
    "\n",
    "start_time = time()\n",
    "\n",
    "print('Loading X_train...')\n",
    "X_train = np.load('/home/zxt/data/final_22/224/5k/X_train.npy')\n",
    "\n",
    "\n",
    "end_time = time()\n",
    "print('Running time: %s seconds'%(end_time - start_time))"
   ]
  },
  {
   "cell_type": "code",
   "execution_count": 3,
   "metadata": {},
   "outputs": [
    {
     "data": {
      "text/plain": [
       "88000"
      ]
     },
     "execution_count": 3,
     "metadata": {},
     "output_type": "execute_result"
    }
   ],
   "source": [
    "len(X_train)"
   ]
  },
  {
   "cell_type": "code",
   "execution_count": 25,
   "metadata": {},
   "outputs": [
    {
     "name": "stdout",
     "output_type": "stream",
     "text": [
      "Loading labels...\n",
      "Running time: 30.07222819328308 seconds\n"
     ]
    }
   ],
   "source": [
    "from time import time\n",
    "import numpy as np\n",
    "\n",
    "start_time = time()\n",
    "\n",
    "print('Loading X_validate...')\n",
    "X_validate = np.load('/home/zxt/data/final_22/224/5k/X_validate.npy')\n",
    "\n",
    "print('Loading X_test...')\n",
    "X_test = np.load('/home/zxt/data/final_22/224/5k/X_test.npy')\n",
    "\n",
    "print('Loading labels...')\n",
    "Y_train = np.load('/home/zxt/data/final_22/224/5k/Y_train.npy')\n",
    "Y_validate = np.load('/home/zxt/data/final_22/224/5k/Y_validate.npy')\n",
    "Y_test = np.load('/home/zxt/data/final_22/224/5k/Y_test.npy')\n",
    "\n",
    "end_time = time()\n",
    "print('Running time: %s seconds'%(end_time - start_time))"
   ]
  },
  {
   "cell_type": "code",
   "execution_count": 26,
   "metadata": {},
   "outputs": [
    {
     "name": "stdout",
     "output_type": "stream",
     "text": [
      "X_train shape: (88000, 224, 224, 3)\n",
      "88000 train samples\n",
      "11000 validate samples\n",
      "11000 test samples\n"
     ]
    }
   ],
   "source": [
    "print('X_train shape:', X_train.shape)\n",
    "print(X_train.shape[0], 'train samples')\n",
    "print(X_validate.shape[0], 'validate samples')\n",
    "print(X_test.shape[0], 'test samples')"
   ]
  },
  {
   "cell_type": "code",
   "execution_count": 27,
   "metadata": {},
   "outputs": [
    {
     "data": {
      "text/plain": [
       "(88000, 1)"
      ]
     },
     "execution_count": 27,
     "metadata": {},
     "output_type": "execute_result"
    }
   ],
   "source": [
    "Y_train.shape"
   ]
  },
  {
   "cell_type": "code",
   "execution_count": 28,
   "metadata": {},
   "outputs": [
    {
     "data": {
      "text/plain": [
       "(11000, 1)"
      ]
     },
     "execution_count": 28,
     "metadata": {},
     "output_type": "execute_result"
    }
   ],
   "source": [
    "Y_validate.shape"
   ]
  },
  {
   "cell_type": "code",
   "execution_count": 29,
   "metadata": {},
   "outputs": [
    {
     "data": {
      "text/plain": [
       "(11000, 1)"
      ]
     },
     "execution_count": 29,
     "metadata": {},
     "output_type": "execute_result"
    }
   ],
   "source": [
    "Y_test.shape"
   ]
  },
  {
   "cell_type": "code",
   "execution_count": 30,
   "metadata": {},
   "outputs": [],
   "source": [
    "X_train /=255.\n",
    "X_validate /=  255.\n",
    "X_test /= 255."
   ]
  },
  {
   "cell_type": "code",
   "execution_count": 31,
   "metadata": {},
   "outputs": [
    {
     "data": {
      "text/plain": [
       "array([['fox'],\n",
       "       ['skunk'],\n",
       "       ['wildebeest'],\n",
       "       ...,\n",
       "       ['zebra'],\n",
       "       ['buffalo'],\n",
       "       ['racoon']], dtype='<U16')"
      ]
     },
     "execution_count": 31,
     "metadata": {},
     "output_type": "execute_result"
    }
   ],
   "source": [
    "Y_test"
   ]
  },
  {
   "cell_type": "code",
   "execution_count": 32,
   "metadata": {},
   "outputs": [],
   "source": [
    "# Y_train label\n",
    "for i in Y_train:\n",
    "    if i[0]=='elephant':\n",
    "        i[0]=0\n",
    "    if i[0]=='wild_boar':\n",
    "        i[0]=1\n",
    "    if i[0]=='gazellethomosons':\n",
    "        i[0]=2\n",
    "    if i[0]=='squirrel':\n",
    "        i[0]=3 \n",
    "    if i[0]=='hedgehog':\n",
    "        i[0]=4\n",
    "    if i[0]=='guineafowl':\n",
    "        i[0]=5\n",
    "    if i[0]=='moose':\n",
    "        i[0]=6\n",
    "    if i[0]=='coyote':\n",
    "        i[0]=7   \n",
    "    if i[0]=='bird':\n",
    "        i[0]=8\n",
    "    if i[0]=='fox':\n",
    "        i[0]=9\n",
    "    if i[0]=='giraffe':\n",
    "        i[0]=10\n",
    "    if i[0]=='buffalo':\n",
    "        i[0]=11\n",
    "    if i[0]=='hare':\n",
    "        i[0]=12\n",
    "    if i[0]=='vehicle':\n",
    "        i[0]=13\n",
    "    if i[0]=='wildebeest':\n",
    "        i[0]=14\n",
    "    if i[0]=='cattle':\n",
    "        i[0]=15 \n",
    "    if i[0]=='skunk':\n",
    "        i[0]=16\n",
    "    if i[0]=='lion':\n",
    "        i[0]=17\n",
    "    if i[0]=='zebra':\n",
    "        i[0]=18\n",
    "    if i[0]=='black_bear':\n",
    "        i[0]=19\n",
    "    if i[0]=='racoon':\n",
    "        i[0]=20\n",
    "    if i[0]=='empty':\n",
    "        i[0]=21\n",
    "        \n",
    "for i in Y_validate:\n",
    "    if i[0]=='elephant':\n",
    "        i[0]=0\n",
    "    if i[0]=='wild_boar':\n",
    "        i[0]=1\n",
    "    if i[0]=='gazellethomosons':\n",
    "        i[0]=2\n",
    "    if i[0]=='squirrel':\n",
    "        i[0]=3 \n",
    "    if i[0]=='hedgehog':\n",
    "        i[0]=4\n",
    "    if i[0]=='guineafowl':\n",
    "        i[0]=5\n",
    "    if i[0]=='moose':\n",
    "        i[0]=6\n",
    "    if i[0]=='coyote':\n",
    "        i[0]=7   \n",
    "    if i[0]=='bird':\n",
    "        i[0]=8\n",
    "    if i[0]=='fox':\n",
    "        i[0]=9\n",
    "    if i[0]=='giraffe':\n",
    "        i[0]=10\n",
    "    if i[0]=='buffalo':\n",
    "        i[0]=11\n",
    "    if i[0]=='hare':\n",
    "        i[0]=12\n",
    "    if i[0]=='vehicle':\n",
    "        i[0]=13\n",
    "    if i[0]=='wildebeest':\n",
    "        i[0]=14\n",
    "    if i[0]=='cattle':\n",
    "        i[0]=15 \n",
    "    if i[0]=='skunk':\n",
    "        i[0]=16\n",
    "    if i[0]=='lion':\n",
    "        i[0]=17\n",
    "    if i[0]=='zebra':\n",
    "        i[0]=18\n",
    "    if i[0]=='black_bear':\n",
    "        i[0]=19\n",
    "    if i[0]=='racoon':\n",
    "        i[0]=20\n",
    "    if i[0]=='empty':\n",
    "        i[0]=21\n",
    "\n",
    "for i in Y_test:\n",
    "    if i[0]=='elephant':\n",
    "        i[0]=0\n",
    "    if i[0]=='wild_boar':\n",
    "        i[0]=1\n",
    "    if i[0]=='gazellethomosons':\n",
    "        i[0]=2\n",
    "    if i[0]=='squirrel':\n",
    "        i[0]=3 \n",
    "    if i[0]=='hedgehog':\n",
    "        i[0]=4\n",
    "    if i[0]=='guineafowl':\n",
    "        i[0]=5\n",
    "    if i[0]=='moose':\n",
    "        i[0]=6\n",
    "    if i[0]=='coyote':\n",
    "        i[0]=7   \n",
    "    if i[0]=='bird':\n",
    "        i[0]=8\n",
    "    if i[0]=='fox':\n",
    "        i[0]=9\n",
    "    if i[0]=='giraffe':\n",
    "        i[0]=10\n",
    "    if i[0]=='buffalo':\n",
    "        i[0]=11\n",
    "    if i[0]=='hare':\n",
    "        i[0]=12\n",
    "    if i[0]=='vehicle':\n",
    "        i[0]=13\n",
    "    if i[0]=='wildebeest':\n",
    "        i[0]=14\n",
    "    if i[0]=='cattle':\n",
    "        i[0]=15 \n",
    "    if i[0]=='skunk':\n",
    "        i[0]=16\n",
    "    if i[0]=='lion':\n",
    "        i[0]=17\n",
    "    if i[0]=='zebra':\n",
    "        i[0]=18\n",
    "    if i[0]=='black_bear':\n",
    "        i[0]=19\n",
    "    if i[0]=='racoon':\n",
    "        i[0]=20\n",
    "    if i[0]=='empty':\n",
    "        i[0]=21"
   ]
  },
  {
   "cell_type": "code",
   "execution_count": 33,
   "metadata": {},
   "outputs": [],
   "source": [
    "from keras.utils import np_utils\n",
    "y_train=np_utils.to_categorical(Y_train,22)\n",
    "y_valid=np_utils.to_categorical(Y_validate,22)\n",
    "y_test=np_utils.to_categorical(Y_test,22)"
   ]
  },
  {
   "cell_type": "code",
   "execution_count": 34,
   "metadata": {},
   "outputs": [
    {
     "data": {
      "text/plain": [
       "array([[0., 0., 0., ..., 0., 0., 0.],\n",
       "       [0., 0., 0., ..., 0., 0., 0.],\n",
       "       [0., 0., 0., ..., 0., 0., 0.],\n",
       "       ...,\n",
       "       [0., 0., 0., ..., 0., 0., 0.],\n",
       "       [0., 0., 0., ..., 0., 0., 0.],\n",
       "       [0., 0., 0., ..., 0., 1., 0.]], dtype=float32)"
      ]
     },
     "execution_count": 34,
     "metadata": {},
     "output_type": "execute_result"
    }
   ],
   "source": [
    "y_test"
   ]
  },
  {
   "cell_type": "markdown",
   "metadata": {},
   "source": [
    "### 2.Model structure"
   ]
  },
  {
   "cell_type": "code",
   "execution_count": 35,
   "metadata": {},
   "outputs": [],
   "source": [
    "def alexnet_s(input_shape, n_classes):\n",
    "    input = Input(input_shape)\n",
    "  \n",
    "    # actually batch normalization didn't exist back then\n",
    "    # they used LRN (Local Response Normalization) for regularization\n",
    "    x = Conv2D(96, 11, strides=4, padding='same', activation='relu')(input)\n",
    "    x = BatchNormalization()(x)\n",
    "    x = MaxPool2D(3, strides=2)(x)\n",
    "  \n",
    "    x = Conv2D(256, 5, padding='same', activation='relu')(x)\n",
    "    x = BatchNormalization()(x)\n",
    "    x = MaxPool2D(3, strides=2)(x)\n",
    "  \n",
    "    x = Conv2D(384, 3, strides=1, padding='same', activation='relu')(x)\n",
    "  \n",
    "    x = Conv2D(384, 3, strides=1, padding='same', activation='relu')(x)\n",
    "  \n",
    "    x = Conv2D(256, 3, strides=1, padding='same', activation='relu')(x)\n",
    "    x = BatchNormalization()(x)\n",
    "    x = MaxPool2D(3, strides=2)(x)\n",
    "  \n",
    "    x = Flatten()(x)\n",
    "    x = Dense(4096, activation='relu')(x)\n",
    "    x = Dense(4096, activation='relu')(x)\n",
    "    \n",
    "    # S: add two more layers to train\n",
    "    x = Dropout(0.4)(x)\n",
    "    x = Dense(4096,activation='relu')(x)\n",
    "    x = Dropout(0.4)(x)\n",
    "    x = Dense(4096,activation='relu')(x)\n",
    "    \n",
    "  \n",
    "    output = Dense(n_classes, activation='softmax')(x)\n",
    "  \n",
    "    model = Model(input, output)\n",
    "    return model"
   ]
  },
  {
   "cell_type": "code",
   "execution_count": 36,
   "metadata": {},
   "outputs": [],
   "source": [
    "# prevent overfitting\n",
    "early_stopping = EarlyStopping(monitor='val_loss', patience=10, verbose=1)"
   ]
  },
  {
   "cell_type": "markdown",
   "metadata": {},
   "source": [
    "### 3.Data Augmentation"
   ]
  },
  {
   "cell_type": "code",
   "execution_count": 37,
   "metadata": {},
   "outputs": [],
   "source": [
    "# Data augmentation\n",
    "\n",
    "# image_datagen = ImageDataGenerator(\n",
    "#     rotation_range=30,\n",
    "#     width_shift_range=0.2,\n",
    "#     height_shift_range=0.2,\n",
    "#     shear_range=0.3,\n",
    "#     zoom_range=0.2,\n",
    "#     horizontal_flip=True,\n",
    "#     brightness_range=(0.6,1),\n",
    "#     fill_mode=\"nearest\")\n",
    "\n",
    "# image_datagen.fit(X_train, augment=True)"
   ]
  },
  {
   "cell_type": "markdown",
   "metadata": {},
   "source": [
    "### 3.Modeling"
   ]
  },
  {
   "cell_type": "code",
   "execution_count": 38,
   "metadata": {},
   "outputs": [],
   "source": [
    "num_train_samples = len(Y_train)\n",
    "num_val_samples = len(Y_validate)\n",
    "batch_size = 128\n",
    "epochs = 40\n",
    "n_classes = 22\n",
    "input_shape = 224,224,3\n",
    "\n",
    "learning_rate = 0.01\n",
    "decay_rate = learning_rate / epochs\n",
    "momentum = 0.8\n",
    "sgd = SGD(lr=learning_rate, momentum=momentum, decay=decay_rate, nesterov=False)"
   ]
  },
  {
   "cell_type": "code",
   "execution_count": 49,
   "metadata": {},
   "outputs": [
    {
     "name": "stdout",
     "output_type": "stream",
     "text": [
      "Model: \"model_1\"\n",
      "_________________________________________________________________\n",
      "Layer (type)                 Output Shape              Param #   \n",
      "=================================================================\n",
      "input_1 (InputLayer)         (None, 224, 224, 3)       0         \n",
      "_________________________________________________________________\n",
      "conv2d_1 (Conv2D)            (None, 56, 56, 96)        34944     \n",
      "_________________________________________________________________\n",
      "batch_normalization_1 (Batch (None, 56, 56, 96)        384       \n",
      "_________________________________________________________________\n",
      "max_pooling2d_1 (MaxPooling2 (None, 27, 27, 96)        0         \n",
      "_________________________________________________________________\n",
      "conv2d_2 (Conv2D)            (None, 27, 27, 256)       614656    \n",
      "_________________________________________________________________\n",
      "batch_normalization_2 (Batch (None, 27, 27, 256)       1024      \n",
      "_________________________________________________________________\n",
      "max_pooling2d_2 (MaxPooling2 (None, 13, 13, 256)       0         \n",
      "_________________________________________________________________\n",
      "conv2d_3 (Conv2D)            (None, 13, 13, 384)       885120    \n",
      "_________________________________________________________________\n",
      "conv2d_4 (Conv2D)            (None, 13, 13, 384)       1327488   \n",
      "_________________________________________________________________\n",
      "conv2d_5 (Conv2D)            (None, 13, 13, 256)       884992    \n",
      "_________________________________________________________________\n",
      "batch_normalization_3 (Batch (None, 13, 13, 256)       1024      \n",
      "_________________________________________________________________\n",
      "max_pooling2d_3 (MaxPooling2 (None, 6, 6, 256)         0         \n",
      "_________________________________________________________________\n",
      "flatten_1 (Flatten)          (None, 9216)              0         \n",
      "_________________________________________________________________\n",
      "dense_1 (Dense)              (None, 4096)              37752832  \n",
      "_________________________________________________________________\n",
      "dense_2 (Dense)              (None, 4096)              16781312  \n",
      "_________________________________________________________________\n",
      "dropout_1 (Dropout)          (None, 4096)              0         \n",
      "_________________________________________________________________\n",
      "dense_3 (Dense)              (None, 4096)              16781312  \n",
      "_________________________________________________________________\n",
      "dropout_2 (Dropout)          (None, 4096)              0         \n",
      "_________________________________________________________________\n",
      "dense_4 (Dense)              (None, 4096)              16781312  \n",
      "_________________________________________________________________\n",
      "dense_5 (Dense)              (None, 22)                90134     \n",
      "=================================================================\n",
      "Total params: 91,936,534\n",
      "Trainable params: 91,935,318\n",
      "Non-trainable params: 1,216\n",
      "_________________________________________________________________\n"
     ]
    }
   ],
   "source": [
    "K.clear_session()\n",
    "model = None\n",
    "model = alexnet_s(input_shape, n_classes)\n",
    "model.summary()"
   ]
  },
  {
   "cell_type": "code",
   "execution_count": 50,
   "metadata": {},
   "outputs": [],
   "source": [
    "model.compile(loss='categorical_crossentropy',optimizer=sgd,metrics=['accuracy'])"
   ]
  },
  {
   "cell_type": "code",
   "execution_count": 51,
   "metadata": {},
   "outputs": [
    {
     "name": "stdout",
     "output_type": "stream",
     "text": [
      "Training model...\n",
      "Train on 88000 samples, validate on 11000 samples\n",
      "Epoch 1/40\n",
      "88000/88000 [==============================] - 425s 5ms/step - loss: 1.8625 - accuracy: 0.3819 - val_loss: 12.3518 - val_accuracy: 0.0441\n",
      "Epoch 2/40\n",
      "88000/88000 [==============================] - 419s 5ms/step - loss: 1.3067 - accuracy: 0.5493 - val_loss: 1.2752 - val_accuracy: 0.5626\n",
      "Epoch 3/40\n",
      "88000/88000 [==============================] - 420s 5ms/step - loss: 1.1190 - accuracy: 0.6147 - val_loss: 1.1708 - val_accuracy: 0.5910\n",
      "Epoch 4/40\n",
      "88000/88000 [==============================] - 418s 5ms/step - loss: 0.9942 - accuracy: 0.6584 - val_loss: 0.9996 - val_accuracy: 0.6544\n",
      "Epoch 5/40\n",
      "88000/88000 [==============================] - 418s 5ms/step - loss: 0.8971 - accuracy: 0.6932 - val_loss: 0.9777 - val_accuracy: 0.6674\n",
      "Epoch 6/40\n",
      "88000/88000 [==============================] - 416s 5ms/step - loss: 0.8105 - accuracy: 0.7220 - val_loss: 0.8214 - val_accuracy: 0.7168\n",
      "Epoch 7/40\n",
      "88000/88000 [==============================] - 418s 5ms/step - loss: 0.7404 - accuracy: 0.7466 - val_loss: 0.7466 - val_accuracy: 0.7467\n",
      "Epoch 8/40\n",
      "88000/88000 [==============================] - 415s 5ms/step - loss: 0.6726 - accuracy: 0.7705 - val_loss: 0.7623 - val_accuracy: 0.7432\n",
      "Epoch 9/40\n",
      "88000/88000 [==============================] - 418s 5ms/step - loss: 0.6121 - accuracy: 0.7902 - val_loss: 0.6464 - val_accuracy: 0.7815\n",
      "Epoch 10/40\n",
      "88000/88000 [==============================] - 415s 5ms/step - loss: 0.5585 - accuracy: 0.8071 - val_loss: 0.7678 - val_accuracy: 0.7514\n",
      "Epoch 11/40\n",
      "88000/88000 [==============================] - 417s 5ms/step - loss: 0.5074 - accuracy: 0.8250 - val_loss: 0.6698 - val_accuracy: 0.7825\n",
      "Epoch 12/40\n",
      "88000/88000 [==============================] - 415s 5ms/step - loss: 0.4616 - accuracy: 0.8418 - val_loss: 0.7809 - val_accuracy: 0.7459\n",
      "Epoch 13/40\n",
      "88000/88000 [==============================] - 417s 5ms/step - loss: 0.4212 - accuracy: 0.8546 - val_loss: 0.6965 - val_accuracy: 0.7804\n",
      "Epoch 14/40\n",
      "88000/88000 [==============================] - 414s 5ms/step - loss: 0.3829 - accuracy: 0.8684 - val_loss: 0.5673 - val_accuracy: 0.8147\n",
      "Epoch 15/40\n",
      "88000/88000 [==============================] - 417s 5ms/step - loss: 0.3483 - accuracy: 0.8800 - val_loss: 0.5579 - val_accuracy: 0.8192\n",
      "Epoch 16/40\n",
      "88000/88000 [==============================] - 416s 5ms/step - loss: 0.3153 - accuracy: 0.8919 - val_loss: 0.5710 - val_accuracy: 0.8231\n",
      "Epoch 17/40\n",
      "88000/88000 [==============================] - 416s 5ms/step - loss: 0.2855 - accuracy: 0.9019 - val_loss: 0.5139 - val_accuracy: 0.8407\n",
      "Epoch 18/40\n",
      "88000/88000 [==============================] - 416s 5ms/step - loss: 0.2618 - accuracy: 0.9103 - val_loss: 0.5485 - val_accuracy: 0.8365\n",
      "Epoch 19/40\n",
      "88000/88000 [==============================] - 418s 5ms/step - loss: 0.2343 - accuracy: 0.9198 - val_loss: 0.5324 - val_accuracy: 0.8453\n",
      "Epoch 20/40\n",
      "88000/88000 [==============================] - 415s 5ms/step - loss: 0.2125 - accuracy: 0.9278 - val_loss: 0.5755 - val_accuracy: 0.8402\n",
      "Epoch 21/40\n",
      "88000/88000 [==============================] - 418s 5ms/step - loss: 0.1957 - accuracy: 0.9330 - val_loss: 0.5905 - val_accuracy: 0.8348\n",
      "Epoch 22/40\n",
      "88000/88000 [==============================] - 416s 5ms/step - loss: 0.1772 - accuracy: 0.9398 - val_loss: 0.5537 - val_accuracy: 0.8508\n",
      "Epoch 23/40\n",
      "88000/88000 [==============================] - 418s 5ms/step - loss: 0.1580 - accuracy: 0.9460 - val_loss: 0.5183 - val_accuracy: 0.8618\n",
      "Epoch 24/40\n",
      "88000/88000 [==============================] - 416s 5ms/step - loss: 0.1472 - accuracy: 0.9495 - val_loss: 0.5300 - val_accuracy: 0.8589\n",
      "Epoch 25/40\n",
      "88000/88000 [==============================] - 418s 5ms/step - loss: 0.1356 - accuracy: 0.9544 - val_loss: 0.5501 - val_accuracy: 0.8607\n",
      "Epoch 26/40\n",
      "88000/88000 [==============================] - 417s 5ms/step - loss: 0.1248 - accuracy: 0.9574 - val_loss: 0.5521 - val_accuracy: 0.8636\n",
      "Epoch 27/40\n",
      "88000/88000 [==============================] - 418s 5ms/step - loss: 0.1137 - accuracy: 0.9622 - val_loss: 0.5400 - val_accuracy: 0.8682\n",
      "Epoch 28/40\n",
      "88000/88000 [==============================] - 416s 5ms/step - loss: 0.1084 - accuracy: 0.9633 - val_loss: 0.5287 - val_accuracy: 0.8698\n",
      "Epoch 29/40\n",
      "88000/88000 [==============================] - 417s 5ms/step - loss: 0.0976 - accuracy: 0.9675 - val_loss: 0.5540 - val_accuracy: 0.8694\n",
      "Epoch 30/40\n",
      "88000/88000 [==============================] - 415s 5ms/step - loss: 0.0888 - accuracy: 0.9704 - val_loss: 0.5867 - val_accuracy: 0.8636\n",
      "Epoch 31/40\n",
      "88000/88000 [==============================] - 416s 5ms/step - loss: 0.0827 - accuracy: 0.9729 - val_loss: 0.5902 - val_accuracy: 0.8665\n",
      "Epoch 32/40\n",
      "88000/88000 [==============================] - 416s 5ms/step - loss: 0.0777 - accuracy: 0.9738 - val_loss: 0.5696 - val_accuracy: 0.8709\n",
      "Epoch 33/40\n",
      "88000/88000 [==============================] - 417s 5ms/step - loss: 0.0743 - accuracy: 0.9751 - val_loss: 0.5689 - val_accuracy: 0.8727\n",
      "Epoch 34/40\n",
      "88000/88000 [==============================] - 415s 5ms/step - loss: 0.0679 - accuracy: 0.9779 - val_loss: 0.5992 - val_accuracy: 0.8650\n",
      "Epoch 35/40\n",
      "88000/88000 [==============================] - 416s 5ms/step - loss: 0.0628 - accuracy: 0.9792 - val_loss: 0.5564 - val_accuracy: 0.8781\n",
      "Epoch 36/40\n",
      "88000/88000 [==============================] - 414s 5ms/step - loss: 0.0592 - accuracy: 0.9809 - val_loss: 0.6514 - val_accuracy: 0.8649\n",
      "Epoch 37/40\n",
      "88000/88000 [==============================] - 416s 5ms/step - loss: 0.0561 - accuracy: 0.9814 - val_loss: 0.5915 - val_accuracy: 0.8765\n",
      "Epoch 38/40\n",
      "88000/88000 [==============================] - 414s 5ms/step - loss: 0.0510 - accuracy: 0.9835 - val_loss: 0.6434 - val_accuracy: 0.8692\n",
      "Epoch 39/40\n",
      "88000/88000 [==============================] - 417s 5ms/step - loss: 0.0501 - accuracy: 0.9835 - val_loss: 0.6107 - val_accuracy: 0.8726\n",
      "Epoch 40/40\n",
      "88000/88000 [==============================] - 414s 5ms/step - loss: 0.0450 - accuracy: 0.9852 - val_loss: 0.5952 - val_accuracy: 0.8809\n",
      "Running time: 16669.13780784607 seconds\n"
     ]
    }
   ],
   "source": [
    "start_time = time()\n",
    "print('Training model...')\n",
    "\n",
    "\n",
    "hist = model.fit(\n",
    "    X_train, \n",
    "    y_train,\n",
    "    batch_size=batch_size,\n",
    "    epochs=40,\n",
    "#     callbacks=[early_stopping],\n",
    "    validation_data = (X_validate,y_valid))\n",
    "\n",
    "end_time = time()\n",
    "print('Running time: %s seconds'%(end_time - start_time))"
   ]
  },
  {
   "cell_type": "code",
   "execution_count": 72,
   "metadata": {},
   "outputs": [],
   "source": [
    "model.save('/home/zxt/data/final_22/model/224_5k/final/alexnet_s_final/proposed_model.h5')\n",
    "model.save_weights('/home/zxt/data/final_22/model/224_5k/final/alexnet_s_final/proposed_model.ckpt')\n",
    "model.save_weights('/home/zxt/data/final_22/model/224_5k/final/alexnet_s_final/proposed_model_weights.h5')"
   ]
  },
  {
   "cell_type": "code",
   "execution_count": 70,
   "metadata": {},
   "outputs": [
    {
     "name": "stdout",
     "output_type": "stream",
     "text": [
      "Training model...\n",
      "Train on 88000 samples, validate on 11000 samples\n",
      "Epoch 1/10\n",
      "88000/88000 [==============================] - 422s 5ms/step - loss: 0.0442 - accuracy: 0.9856 - val_loss: 0.6401 - val_accuracy: 0.8813\n",
      "Epoch 2/10\n",
      "88000/88000 [==============================] - 418s 5ms/step - loss: 0.0424 - accuracy: 0.9861 - val_loss: 0.6157 - val_accuracy: 0.8799\n",
      "Epoch 3/10\n",
      "88000/88000 [==============================] - 420s 5ms/step - loss: 0.0385 - accuracy: 0.9875 - val_loss: 0.6382 - val_accuracy: 0.8808\n",
      "Epoch 4/10\n",
      "88000/88000 [==============================] - 417s 5ms/step - loss: 0.0368 - accuracy: 0.9881 - val_loss: 0.6183 - val_accuracy: 0.8829\n",
      "Epoch 5/10\n",
      "88000/88000 [==============================] - 418s 5ms/step - loss: 0.0353 - accuracy: 0.9890 - val_loss: 0.6443 - val_accuracy: 0.8842\n",
      "Epoch 6/10\n",
      "88000/88000 [==============================] - 415s 5ms/step - loss: 0.0326 - accuracy: 0.9896 - val_loss: 0.6375 - val_accuracy: 0.8812\n",
      "Epoch 7/10\n",
      "88000/88000 [==============================] - 418s 5ms/step - loss: 0.0294 - accuracy: 0.9906 - val_loss: 0.6357 - val_accuracy: 0.8847\n",
      "Epoch 8/10\n",
      "88000/88000 [==============================] - 415s 5ms/step - loss: 0.0284 - accuracy: 0.9910 - val_loss: 0.6364 - val_accuracy: 0.8829\n",
      "Epoch 9/10\n",
      "88000/88000 [==============================] - 418s 5ms/step - loss: 0.0272 - accuracy: 0.9913 - val_loss: 0.6369 - val_accuracy: 0.8865\n",
      "Epoch 10/10\n",
      "88000/88000 [==============================] - 414s 5ms/step - loss: 0.0256 - accuracy: 0.9920 - val_loss: 0.6376 - val_accuracy: 0.8855\n",
      "Running time: 4176.2989728450775 seconds\n"
     ]
    }
   ],
   "source": [
    "start_time = time()\n",
    "print('Training model...')\n",
    "\n",
    "\n",
    "hist2 = model.fit(\n",
    "    X_train, \n",
    "    y_train,\n",
    "    batch_size=batch_size,\n",
    "    epochs=10,\n",
    "#     callbacks=[early_stopping],\n",
    "    validation_data = (X_validate,y_valid))\n",
    "\n",
    "end_time = time()\n",
    "print('Running time: %s seconds'%(end_time - start_time))"
   ]
  },
  {
   "cell_type": "code",
   "execution_count": null,
   "metadata": {},
   "outputs": [],
   "source": []
  },
  {
   "cell_type": "code",
   "execution_count": null,
   "metadata": {},
   "outputs": [],
   "source": []
  },
  {
   "cell_type": "markdown",
   "metadata": {},
   "source": [
    "### 4.Evaluation"
   ]
  },
  {
   "cell_type": "code",
   "execution_count": null,
   "metadata": {},
   "outputs": [],
   "source": []
  },
  {
   "cell_type": "code",
   "execution_count": 53,
   "metadata": {},
   "outputs": [
    {
     "data": {
      "text/plain": [
       "<matplotlib.axes._subplots.AxesSubplot at 0x7f12906e4b90>"
      ]
     },
     "execution_count": 53,
     "metadata": {},
     "output_type": "execute_result"
    },
    {
     "data": {
      "image/png": "[encoded data removed]",
      "text/plain": [
       "<Figure size 432x288 with 1 Axes>"
      ]
     },
     "metadata": {
      "needs_background": "light"
     },
     "output_type": "display_data"
    },
    {
     "data": {
      "image/png": "[encoded data removed]",
      "text/plain": [
       "<Figure size 432x288 with 1 Axes>"
      ]
     },
     "metadata": {
      "needs_background": "light"
     },
     "output_type": "display_data"
    }
   ],
   "source": [
    "history_df = pd.DataFrame(hist.history)\n",
    "history_df[['loss', 'val_loss']].plot()\n",
    "history_df[['accuracy', 'val_accuracy']].plot()"
   ]
  },
  {
   "cell_type": "markdown",
   "metadata": {},
   "source": [
    "### 5.Prediction on X_test dataset"
   ]
  },
  {
   "cell_type": "code",
   "execution_count": 71,
   "metadata": {},
   "outputs": [
    {
     "name": "stdout",
     "output_type": "stream",
     "text": [
      "11000/11000 [==============================] - 34s 3ms/step\n",
      "\n",
      "test loss 0.6717280075143685\n",
      "accuracy 0.8889999985694885\n"
     ]
    }
   ],
   "source": [
    "loss,accuracy = model.evaluate(X_test,y_test)\n",
    "print('\\ntest loss',loss)\n",
    "print('accuracy',accuracy)"
   ]
  },
  {
   "cell_type": "code",
   "execution_count": 55,
   "metadata": {},
   "outputs": [],
   "source": [
    "y_pred = model.predict(X_test,batch_size=1)"
   ]
  },
  {
   "cell_type": "code",
   "execution_count": 56,
   "metadata": {},
   "outputs": [
    {
     "data": {
      "text/plain": [
       "array([[3.6538786e-15, 1.9282984e-09, 1.5456089e-09, ..., 3.3303721e-05,\n",
       "        1.2607802e-08, 1.5128547e-09],\n",
       "       [2.9527806e-08, 5.6588246e-06, 7.0238104e-07, ..., 3.0505751e-07,\n",
       "        1.9663064e-06, 9.7019074e-06],\n",
       "       [3.3961605e-02, 3.7378138e-14, 8.9820853e-04, ..., 5.6223632e-17,\n",
       "        7.4569011e-11, 1.8372980e-06],\n",
       "       ...,\n",
       "       [5.1984711e-07, 4.8895626e-10, 6.9763932e-09, ..., 1.7353728e-13,\n",
       "        1.6161869e-11, 3.6749715e-04],\n",
       "       [3.9950926e-05, 2.7431052e-10, 8.5164036e-11, ..., 1.2319358e-12,\n",
       "        8.3162930e-12, 6.7882852e-12],\n",
       "       [3.2868477e-10, 6.9064981e-08, 1.0675296e-09, ..., 1.9331607e-09,\n",
       "        9.9774456e-01, 8.9907320e-05]], dtype=float32)"
      ]
     },
     "execution_count": 56,
     "metadata": {},
     "output_type": "execute_result"
    }
   ],
   "source": [
    "y_pred"
   ]
  },
  {
   "cell_type": "code",
   "execution_count": 57,
   "metadata": {},
   "outputs": [
    {
     "data": {
      "text/plain": [
       "11000"
      ]
     },
     "execution_count": 57,
     "metadata": {},
     "output_type": "execute_result"
    }
   ],
   "source": [
    "len(y_pred)"
   ]
  },
  {
   "cell_type": "markdown",
   "metadata": {},
   "source": [
    "### 6.Check each categoryaccuracy"
   ]
  },
  {
   "cell_type": "code",
   "execution_count": 58,
   "metadata": {},
   "outputs": [],
   "source": [
    "a = list(y_pred)\n",
    "y_prediction=[]\n",
    "for i in a:\n",
    "    j =list(i)\n",
    "    y_prediction.append(j.index(max(j)))"
   ]
  },
  {
   "cell_type": "code",
   "execution_count": 59,
   "metadata": {},
   "outputs": [
    {
     "data": {
      "text/plain": [
       "[9, 16, 18, 10, 3]"
      ]
     },
     "execution_count": 59,
     "metadata": {},
     "output_type": "execute_result"
    }
   ],
   "source": [
    "y_prediction[:5]"
   ]
  },
  {
   "cell_type": "code",
   "execution_count": 60,
   "metadata": {},
   "outputs": [
    {
     "data": {
      "text/plain": [
       "array([['9'],\n",
       "       ['16'],\n",
       "       ['14'],\n",
       "       ['10'],\n",
       "       ['3']], dtype='<U16')"
      ]
     },
     "execution_count": 60,
     "metadata": {},
     "output_type": "execute_result"
    }
   ],
   "source": [
    "Y_test[:5]"
   ]
  },
  {
   "cell_type": "code",
   "execution_count": 61,
   "metadata": {},
   "outputs": [],
   "source": [
    "# array to dataframe\n",
    "y_real=pd.DataFrame(Y_test,columns=['label'])"
   ]
  },
  {
   "cell_type": "code",
   "execution_count": 62,
   "metadata": {},
   "outputs": [],
   "source": [
    "y_predict = pd.DataFrame(y_prediction,columns=['label_pre'])"
   ]
  },
  {
   "cell_type": "code",
   "execution_count": 63,
   "metadata": {},
   "outputs": [],
   "source": [
    "prediction_df = pd.concat([y_real,y_predict],axis=1)\n",
    "prediction_df['label']=prediction_df['label'].astype(int)\n",
    "prediction_df['diff']=prediction_df['label']-prediction_df['label_pre']\n"
   ]
  },
  {
   "cell_type": "code",
   "execution_count": 64,
   "metadata": {},
   "outputs": [
    {
     "data": {
      "text/html": [
       "<div>\n",
       "<style scoped>\n",
       "    .dataframe tbody tr th:only-of-type {\n",
       "        vertical-align: middle;\n",
       "    }\n",
       "\n",
       "    .dataframe tbody tr th {\n",
       "        vertical-align: top;\n",
       "    }\n",
       "\n",
       "    .dataframe thead th {\n",
       "        text-align: right;\n",
       "    }\n",
       "</style>\n",
       "<table border=\"1\" class=\"dataframe\">\n",
       "  <thead>\n",
       "    <tr style=\"text-align: right;\">\n",
       "      <th></th>\n",
       "      <th>label</th>\n",
       "      <th>label_pre</th>\n",
       "      <th>diff</th>\n",
       "    </tr>\n",
       "  </thead>\n",
       "  <tbody>\n",
       "    <tr>\n",
       "      <td>0</td>\n",
       "      <td>9</td>\n",
       "      <td>9</td>\n",
       "      <td>0</td>\n",
       "    </tr>\n",
       "    <tr>\n",
       "      <td>1</td>\n",
       "      <td>16</td>\n",
       "      <td>16</td>\n",
       "      <td>0</td>\n",
       "    </tr>\n",
       "    <tr>\n",
       "      <td>2</td>\n",
       "      <td>14</td>\n",
       "      <td>18</td>\n",
       "      <td>-4</td>\n",
       "    </tr>\n",
       "    <tr>\n",
       "      <td>3</td>\n",
       "      <td>10</td>\n",
       "      <td>10</td>\n",
       "      <td>0</td>\n",
       "    </tr>\n",
       "    <tr>\n",
       "      <td>4</td>\n",
       "      <td>3</td>\n",
       "      <td>3</td>\n",
       "      <td>0</td>\n",
       "    </tr>\n",
       "    <tr>\n",
       "      <td>...</td>\n",
       "      <td>...</td>\n",
       "      <td>...</td>\n",
       "      <td>...</td>\n",
       "    </tr>\n",
       "    <tr>\n",
       "      <td>10995</td>\n",
       "      <td>0</td>\n",
       "      <td>10</td>\n",
       "      <td>-10</td>\n",
       "    </tr>\n",
       "    <tr>\n",
       "      <td>10996</td>\n",
       "      <td>15</td>\n",
       "      <td>15</td>\n",
       "      <td>0</td>\n",
       "    </tr>\n",
       "    <tr>\n",
       "      <td>10997</td>\n",
       "      <td>18</td>\n",
       "      <td>18</td>\n",
       "      <td>0</td>\n",
       "    </tr>\n",
       "    <tr>\n",
       "      <td>10998</td>\n",
       "      <td>11</td>\n",
       "      <td>11</td>\n",
       "      <td>0</td>\n",
       "    </tr>\n",
       "    <tr>\n",
       "      <td>10999</td>\n",
       "      <td>20</td>\n",
       "      <td>20</td>\n",
       "      <td>0</td>\n",
       "    </tr>\n",
       "  </tbody>\n",
       "</table>\n",
       "<p>11000 rows × 3 columns</p>\n",
       "</div>"
      ],
      "text/plain": [
       "       label  label_pre  diff\n",
       "0          9          9     0\n",
       "1         16         16     0\n",
       "2         14         18    -4\n",
       "3         10         10     0\n",
       "4          3          3     0\n",
       "...      ...        ...   ...\n",
       "10995      0         10   -10\n",
       "10996     15         15     0\n",
       "10997     18         18     0\n",
       "10998     11         11     0\n",
       "10999     20         20     0\n",
       "\n",
       "[11000 rows x 3 columns]"
      ]
     },
     "execution_count": 64,
     "metadata": {},
     "output_type": "execute_result"
    }
   ],
   "source": [
    "prediction_df"
   ]
  },
  {
   "cell_type": "code",
   "execution_count": 65,
   "metadata": {},
   "outputs": [],
   "source": [
    "prediction_df.to_csv(r'/home/zxt/data/final_22/prediction/alexnet_s_predictdiff.csv',index=False)"
   ]
  },
  {
   "cell_type": "code",
   "execution_count": 66,
   "metadata": {},
   "outputs": [
    {
     "name": "stdout",
     "output_type": "stream",
     "text": [
      "elephant recall:      0.786\n",
      "wild_boar recall:      0.829\n",
      "gazellethomosons recall:      0.949\n",
      "squirrel recall:      0.907\n",
      "hedgehog recall:      0.994\n",
      "guineafowl recall:      0.961\n",
      "moose recall:      0.990\n",
      "coyote recall:      0.926\n",
      "bird recall:      0.869\n",
      "fox recall:      0.811\n",
      "giraffe recall:      0.939\n",
      "buffalo recall:      0.863\n",
      "hare recall:      0.975\n",
      "vehicle recall:      0.945\n",
      "wildebeest recall:      0.744\n",
      "cattle recall:      0.743\n",
      "skunk recall:      0.910\n",
      "lion recall:      0.812\n",
      "zebra recall:      0.860\n",
      "black_bear recall:      0.831\n",
      "racoon recall:      0.927\n",
      "empty recall:      0.844\n"
     ]
    }
   ],
   "source": [
    "onehot_keylist = ['elephant','wild_boar','gazellethomosons','squirrel','hedgehog','guineafowl','moose','coyote','bird',\n",
    "                  'fox','giraffe','buffalo','hare','vehicle','wildebeest','cattle','skunk','lion','zebra','black_bear',\n",
    "                  'racoon','empty']\n",
    "onehot_dict = {'elephant':0,'wild_boar':1,'gazellethomosons':2,'squirrel':3,'hedgehog':4,'guineafowl':5,'moose':6,'coyote':7,\n",
    "              'bird':8,'fox':9,'giraffe':10,'buffalo':11,'hare':12,'vehicle':13,'wildebeest':14,'cattle':15,'skunk':16,'lion':17,\n",
    "              'zebra':18,'black_bear':19,'racoon':20,'empty':21}\n",
    "\n",
    "for animal in onehot_keylist:\n",
    "    name = animal\n",
    "    animal = prediction_df[prediction_df['label']== onehot_dict[animal]]\n",
    "    recall = animal.loc[:,'diff'].value_counts()[0]/len(animal)\n",
    "    print(\"%s recall: %10.3f\" %(name,recall) )"
   ]
  },
  {
   "cell_type": "markdown",
   "metadata": {},
   "source": [
    "### 7.Confusion Matrix"
   ]
  },
  {
   "cell_type": "code",
   "execution_count": 67,
   "metadata": {},
   "outputs": [],
   "source": [
    "animal_label_dict = {0:'elephant',1:'wild_boar',2:'gazellethomosons',3:'squirrel',4:'hedgehog',\n",
    "                    5:'guineafowl',6:'moose',7:'coyote',8:'bird',9:'fox',10:'giraffe',\n",
    "                    11:'buffalo',12:'hare',13:'vehicle',14:'wildebeest',15:'cattle',\n",
    "                    16:'skunk',17:'lion',18:'zebra',19:'black_bear',20:'racoon',21:'empty'}     \n",
    "labels=[]\n",
    "for i in range(0,22):\n",
    "    name = animal_label_dict[i]\n",
    "    labels.append(name)"
   ]
  },
  {
   "cell_type": "code",
   "execution_count": 68,
   "metadata": {},
   "outputs": [
    {
     "data": {
      "text/plain": [
       "<matplotlib.axes._subplots.AxesSubplot at 0x7f12863c1250>"
      ]
     },
     "execution_count": 68,
     "metadata": {},
     "output_type": "execute_result"
    },
    {
     "data": {
      "image/png": "[encoded data removed]",
      "text/plain": [
       "<Figure size 864x720 with 2 Axes>"
      ]
     },
     "metadata": {
      "needs_background": "light"
     },
     "output_type": "display_data"
    }
   ],
   "source": [
    "# C2=confusion_matrix(test_true_label,prediction_label, labels=labels)\n",
    "import matplotlib as mpl\n",
    "import seaborn as sns\n",
    "import matplotlib.pyplot as plt\n",
    "from IPython.display import display\n",
    "%matplotlib inline\n",
    "C2=confusion_matrix(prediction_df['label'],prediction_df['label_pre'], labels=[0,1,2,3,4,5,6,7,8,9,10,11,12,13,14,15,16,17,18,19,20,21])\n",
    "plt.figure(figsize=(12,10))\n",
    "sns.heatmap(C2,annot=True,cmap=\"Blues\",xticklabels=labels,yticklabels=labels,fmt='.20g')"
   ]
  },
  {
   "cell_type": "markdown",
   "metadata": {},
   "source": [
    "### 8.Precision, recall, f1 score"
   ]
  },
  {
   "cell_type": "code",
   "execution_count": 69,
   "metadata": {},
   "outputs": [
    {
     "name": "stdout",
     "output_type": "stream",
     "text": [
      "              precision    recall  f1-score   support\n",
      "\n",
      "           0       0.84      0.79      0.81       482\n",
      "           1       0.78      0.83      0.81       480\n",
      "           2       0.91      0.95      0.93       487\n",
      "           3       0.89      0.91      0.90       514\n",
      "           4       0.98      0.99      0.99       506\n",
      "           5       0.91      0.96      0.94       461\n",
      "           6       0.95      0.99      0.97       501\n",
      "           7       0.84      0.93      0.88       502\n",
      "           8       0.88      0.87      0.88       488\n",
      "           9       0.93      0.81      0.87       491\n",
      "          10       0.90      0.94      0.92       506\n",
      "          11       0.86      0.86      0.86       517\n",
      "          12       0.92      0.98      0.95       484\n",
      "          13       0.86      0.94      0.90       507\n",
      "          14       0.82      0.74      0.78       507\n",
      "          15       0.84      0.74      0.79       487\n",
      "          16       0.88      0.91      0.89       510\n",
      "          17       0.88      0.81      0.84       528\n",
      "          18       0.80      0.86      0.83       506\n",
      "          19       0.87      0.83      0.85       503\n",
      "          20       0.94      0.93      0.93       521\n",
      "          21       0.94      0.84      0.89       512\n",
      "\n",
      "    accuracy                           0.88     11000\n",
      "   macro avg       0.88      0.88      0.88     11000\n",
      "weighted avg       0.88      0.88      0.88     11000\n",
      "\n"
     ]
    }
   ],
   "source": [
    "from sklearn.metrics import confusion_matrix, accuracy_score, classification_report\n",
    "print(classification_report(prediction_df['label'],prediction_df['label_pre']))"
   ]
  },
  {
   "cell_type": "code",
   "execution_count": null,
   "metadata": {},
   "outputs": [],
   "source": []
  }
 ],
 "metadata": {
  "kernelspec": {
   "display_name": "Python 3",
   "language": "python",
   "name": "python3"
  },
  "language_info": {
   "codemirror_mode": {
    "name": "ipython",
    "version": 3
   },
   "file_extension": ".py",
   "mimetype": "text/x-python",
   "name": "python",
   "nbconvert_exporter": "python",
   "pygments_lexer": "ipython3",
   "version": "3.7.4"
  }
 },
 "nbformat": 4,
 "nbformat_minor": 4
}
