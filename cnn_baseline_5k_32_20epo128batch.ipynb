{
 "cells": [
  {
   "cell_type": "markdown",
   "metadata": {},
   "source": [
    "## CNN BASELINE MODEL"
   ]
  },
  {
   "cell_type": "code",
   "execution_count": 1,
   "metadata": {},
   "outputs": [],
   "source": [
    "import os \n",
    "os.environ[\"CUDA_VISIBLE_DEVICES\"]=\"0,1\""
   ]
  },
  {
   "cell_type": "code",
   "execution_count": 2,
   "metadata": {},
   "outputs": [
    {
     "name": "stderr",
     "output_type": "stream",
     "text": [
      "Using TensorFlow backend.\n"
     ]
    }
   ],
   "source": [
    "## import json\n",
    "\n",
    "import numpy as np\n",
    "import pandas as pd\n",
    "import keras\n",
    "import time\n",
    "from keras.optimizers import SGD\n",
    "from keras.callbacks import Callback\n",
    "from keras.datasets import cifar10\n",
    "from keras.preprocessing.image import ImageDataGenerator\n",
    "from keras.models import Sequential\n",
    "from keras.layers import Dense, Dropout, Activation, Flatten\n",
    "from keras.layers import Conv2D, MaxPooling2D\n",
    "from sklearn.metrics import confusion_matrix, f1_score, precision_score, recall_score\n",
    "from sklearn.model_selection import train_test_split"
   ]
  },
  {
   "cell_type": "markdown",
   "metadata": {},
   "source": [
    "### 1.Loading 224x224 dataset"
   ]
  },
  {
   "cell_type": "code",
   "execution_count": null,
   "metadata": {},
   "outputs": [],
   "source": [
    "from time import time\n",
    "import numpy as np\n",
    "\n",
    "start_time = time()\n",
    "\n",
    "X_validate = np.load('/home/zxt/data/21_category/224/2k/X_validate.npy')\n",
    "\n",
    "\n",
    "X_test = np.load('/home/zxt/data/21_category/224/2k/X_test.npy')\n",
    "\n",
    "print('Loading labels...')\n",
    "Y_train = np.load('/home/zxt/data/21_category/224/2k/Y_train.npy')\n",
    "Y_validate = np.load('/home/zxt/data/21_category/224/2k/Y_validate.npy')\n",
    "Y_test = np.load('/home/zxt/data/21_category/224/2k/Y_test.npy')\n",
    "\n",
    "end_time = time()\n",
    "print('Running time: %s seconds'%(end_time - start_time))"
   ]
  },
  {
   "cell_type": "code",
   "execution_count": 7,
   "metadata": {},
   "outputs": [],
   "source": [
    "X_train = np.load('/home/zxt/data/21_category/32/5k/X_train.npy')\n",
    "X_validate = np.load('/home/zxt/data/21_category/32/5k/X_validate.npy')\n",
    "X_test = np.load('/home/zxt/data/21_category/32/5k/X_test.npy')\n",
    "Y_train = np.load('/home/zxt/data/21_category/32/5k/Y_train.npy')\n",
    "Y_validate = np.load('/home/zxt/data/21_category/32/5k/Y_validate.npy')\n",
    "Y_test = np.load('/home/zxt/data/21_category/32/5k/Y_test.npy')"
   ]
  },
  {
   "cell_type": "code",
   "execution_count": 8,
   "metadata": {},
   "outputs": [
    {
     "name": "stdout",
     "output_type": "stream",
     "text": [
      "X_train shape: (84000, 32, 32, 3)\n",
      "84000 train samples\n",
      "10500 validate samples\n",
      "10500 test samples\n"
     ]
    }
   ],
   "source": [
    "print('X_train shape:', X_train.shape)\n",
    "print(X_train.shape[0], 'train samples')\n",
    "print(X_validate.shape[0], 'validate samples')\n",
    "print(X_test.shape[0], 'test samples')"
   ]
  },
  {
   "cell_type": "code",
   "execution_count": 9,
   "metadata": {},
   "outputs": [],
   "source": [
    "# Convert the images to float and scale it to a range of 0 to 1\n",
    "# x_train = X_train.astype('float32')\n",
    "# x_validate = X_validate.astype('float32')\n",
    "# x_test = X_test.astype('float32')\n",
    "\n",
    "X_train /=255.\n",
    "X_validate /=  255.\n",
    "X_test /= 255."
   ]
  },
  {
   "cell_type": "code",
   "execution_count": 15,
   "metadata": {},
   "outputs": [],
   "source": [
    "\n",
    "# Y_train label\n",
    "for i in Y_train:\n",
    "    if i[0]=='elephant':\n",
    "        i[0]=0\n",
    "    if i[0]=='wild_boar':\n",
    "        i[0]=1\n",
    "    if i[0]=='gazellethomosons':\n",
    "        i[0]=2\n",
    "    if i[0]=='squirrel':\n",
    "        i[0]=3 \n",
    "    if i[0]=='hedgehog':\n",
    "        i[0]=4\n",
    "    if i[0]=='guineafowl':\n",
    "        i[0]=5\n",
    "    if i[0]=='moose':\n",
    "        i[0]=6\n",
    "    if i[0]=='coyote':\n",
    "        i[0]=7   \n",
    "    if i[0]=='bird':\n",
    "        i[0]=8\n",
    "    if i[0]=='fox':\n",
    "        i[0]=9\n",
    "    if i[0]=='giraffe':\n",
    "        i[0]=10\n",
    "    if i[0]=='buffalo':\n",
    "        i[0]=11\n",
    "    if i[0]=='hare':\n",
    "        i[0]=12\n",
    "    if i[0]=='vehicle':\n",
    "        i[0]=13\n",
    "    if i[0]=='wildebeest':\n",
    "        i[0]=14\n",
    "    if i[0]=='cattle':\n",
    "        i[0]=15 \n",
    "    if i[0]=='skunk':\n",
    "        i[0]=16\n",
    "    if i[0]=='lion':\n",
    "        i[0]=17\n",
    "    if i[0]=='zebra':\n",
    "        i[0]=18\n",
    "    if i[0]=='black_bear':\n",
    "        i[0]=19\n",
    "    if i[0]=='racoon':\n",
    "        i[0]=20\n",
    "        \n",
    "for i in Y_validate:\n",
    "    if i[0]=='elephant':\n",
    "        i[0]=0\n",
    "    if i[0]=='wild_boar':\n",
    "        i[0]=1\n",
    "    if i[0]=='gazellethomosons':\n",
    "        i[0]=2\n",
    "    if i[0]=='squirrel':\n",
    "        i[0]=3 \n",
    "    if i[0]=='hedgehog':\n",
    "        i[0]=4\n",
    "    if i[0]=='guineafowl':\n",
    "        i[0]=5\n",
    "    if i[0]=='moose':\n",
    "        i[0]=6\n",
    "    if i[0]=='coyote':\n",
    "        i[0]=7   \n",
    "    if i[0]=='bird':\n",
    "        i[0]=8\n",
    "    if i[0]=='fox':\n",
    "        i[0]=9\n",
    "    if i[0]=='giraffe':\n",
    "        i[0]=10\n",
    "    if i[0]=='buffalo':\n",
    "        i[0]=11\n",
    "    if i[0]=='hare':\n",
    "        i[0]=12\n",
    "    if i[0]=='vehicle':\n",
    "        i[0]=13\n",
    "    if i[0]=='wildebeest':\n",
    "        i[0]=14\n",
    "    if i[0]=='cattle':\n",
    "        i[0]=15 \n",
    "    if i[0]=='skunk':\n",
    "        i[0]=16\n",
    "    if i[0]=='lion':\n",
    "        i[0]=17\n",
    "    if i[0]=='zebra':\n",
    "        i[0]=18\n",
    "    if i[0]=='black_bear':\n",
    "        i[0]=19\n",
    "    if i[0]=='racoon':\n",
    "        i[0]=20\n",
    "\n",
    "for i in Y_test:\n",
    "    if i[0]=='elephant':\n",
    "        i[0]=0\n",
    "    if i[0]=='wild_boar':\n",
    "        i[0]=1\n",
    "    if i[0]=='gazellethomosons':\n",
    "        i[0]=2\n",
    "    if i[0]=='squirrel':\n",
    "        i[0]=3 \n",
    "    if i[0]=='hedgehog':\n",
    "        i[0]=4\n",
    "    if i[0]=='guineafowl':\n",
    "        i[0]=5\n",
    "    if i[0]=='moose':\n",
    "        i[0]=6\n",
    "    if i[0]=='coyote':\n",
    "        i[0]=7   \n",
    "    if i[0]=='bird':\n",
    "        i[0]=8\n",
    "    if i[0]=='fox':\n",
    "        i[0]=9\n",
    "    if i[0]=='giraffe':\n",
    "        i[0]=10\n",
    "    if i[0]=='buffalo':\n",
    "        i[0]=11\n",
    "    if i[0]=='hare':\n",
    "        i[0]=12\n",
    "    if i[0]=='vehicle':\n",
    "        i[0]=13\n",
    "    if i[0]=='wildebeest':\n",
    "        i[0]=14\n",
    "    if i[0]=='cattle':\n",
    "        i[0]=15 \n",
    "    if i[0]=='skunk':\n",
    "        i[0]=16\n",
    "    if i[0]=='lion':\n",
    "        i[0]=17\n",
    "    if i[0]=='zebra':\n",
    "        i[0]=18\n",
    "    if i[0]=='black_bear':\n",
    "        i[0]=19\n",
    "    if i[0]=='racoon':\n",
    "        i[0]=20"
   ]
  },
  {
   "cell_type": "code",
   "execution_count": 18,
   "metadata": {},
   "outputs": [],
   "source": [
    "from keras.utils import np_utils\n",
    "y_train=np_utils.to_categorical(Y_train,21)\n",
    "y_valid=np_utils.to_categorical(Y_validate,21)\n",
    "y_test=np_utils.to_categorical(Y_test,21)\n"
   ]
  },
  {
   "cell_type": "code",
   "execution_count": 19,
   "metadata": {},
   "outputs": [
    {
     "data": {
      "text/plain": [
       "array([[0., 0., 0., ..., 0., 0., 1.],\n",
       "       [0., 0., 0., ..., 0., 1., 0.],\n",
       "       [0., 0., 1., ..., 0., 0., 0.],\n",
       "       ...,\n",
       "       [0., 0., 0., ..., 0., 0., 0.],\n",
       "       [0., 0., 0., ..., 0., 0., 0.],\n",
       "       [0., 0., 0., ..., 0., 0., 0.]], dtype=float32)"
      ]
     },
     "execution_count": 19,
     "metadata": {},
     "output_type": "execute_result"
    }
   ],
   "source": [
    "y_test"
   ]
  },
  {
   "cell_type": "markdown",
   "metadata": {},
   "source": [
    "### 2. Create Callback for F1 score"
   ]
  },
  {
   "cell_type": "code",
   "execution_count": 24,
   "metadata": {},
   "outputs": [],
   "source": [
    "class Metrics(Callback):\n",
    "\n",
    "    def on_train_begin(self, logs={}):\n",
    "        self.val_f1s = []\n",
    "        self.val_recalls = []\n",
    "        self.val_precisions = []\n",
    "\n",
    "    def on_epoch_end(self, epoch, logs={}):\n",
    "        X_val, y_val = self.validation_data[:2]\n",
    "        y_pred = self.model.predict(X_val)\n",
    "\n",
    "        y_pred_cat = keras.utils.to_categorical(\n",
    "            y_pred.argmax(axis=1),\n",
    "            num_classes=num_classes\n",
    "        )\n",
    "\n",
    "        _val_f1 = f1_score(y_val, y_pred_cat, average='macro')\n",
    "        _val_recall = recall_score(y_val, y_pred_cat, average='macro')\n",
    "        _val_precision = precision_score(y_val, y_pred_cat, average='macro')\n",
    "\n",
    "        self.val_f1s.append(_val_f1)\n",
    "        self.val_recalls.append(_val_recall)\n",
    "        self.val_precisions.append(_val_precision)\n",
    "\n",
    "        print((f\"val_f1: {_val_f1:.4f}\"\n",
    "               f\" - val_precision: {_val_precision:.4f}\"\n",
    "               f\" - val_recall: {_val_recall:.4f}\"))\n",
    "\n",
    "        return"
   ]
  },
  {
   "cell_type": "markdown",
   "metadata": {},
   "source": [
    "### 3. Creating and Training the Model¶"
   ]
  },
  {
   "cell_type": "code",
   "execution_count": 39,
   "metadata": {},
   "outputs": [],
   "source": [
    "num_train_samples = len(Y_train)\n",
    "num_val_samples = len(Y_validate)\n",
    "batch_size = 128\n",
    "epochs = 30\n",
    "num_classes = 21\n",
    "input_shape = 32,32,3\n",
    "\n",
    "learning_rate = 0.01\n",
    "decay_rate = learning_rate / epochs\n",
    "momentum = 0.8\n",
    "sgd = SGD(lr=learning_rate, momentum=momentum, decay=decay_rate, nesterov=False)"
   ]
  },
  {
   "cell_type": "code",
   "execution_count": 46,
   "metadata": {},
   "outputs": [],
   "source": [
    "model = None"
   ]
  },
  {
   "cell_type": "code",
   "execution_count": 47,
   "metadata": {},
   "outputs": [],
   "source": [
    "model = Sequential()\n",
    "model.add(Conv2D(32, (3, 3), padding='same',\n",
    "                 input_shape=X_train.shape[1:]))\n",
    "model.add(Activation('relu'))\n",
    "model.add(Conv2D(32, (3, 3)))\n",
    "model.add(Activation('relu'))\n",
    "model.add(MaxPooling2D(pool_size=(2, 2)))\n",
    "model.add(Dropout(0.25))\n",
    "\n",
    "model.add(Conv2D(64, (3, 3), padding='same'))\n",
    "model.add(Activation('relu'))\n",
    "model.add(Conv2D(64, (3, 3)))\n",
    "model.add(Activation('relu'))\n",
    "model.add(MaxPooling2D(pool_size=(2, 2)))\n",
    "model.add(Dropout(0.25))\n",
    "\n",
    "model.add(Flatten())\n",
    "model.add(Dense(512))\n",
    "model.add(Activation('relu'))\n",
    "model.add(Dropout(0.5))\n",
    "model.add(Dense(21))\n",
    "model.add(Activation('softmax'))"
   ]
  },
  {
   "cell_type": "code",
   "execution_count": 48,
   "metadata": {},
   "outputs": [],
   "source": [
    "# # Method 1 :failed\n",
    "# os.environ[\"CUDA_VISIBLE_DEVICES\"]=\"0,1,2,3\"\n",
    "\n",
    "# from keras.utils import multi_gpu_model\n",
    "# parallel_model = multi_gpu_model(model,gpus=4,cpu_merge=True)\n"
   ]
  },
  {
   "cell_type": "code",
   "execution_count": 49,
   "metadata": {},
   "outputs": [],
   "source": [
    "# # medhots 2\n",
    "# from keras.applications import Xception\n",
    "# import tensorflow as tf\n",
    "# with tf.device('/cpu:0'):\n",
    "#     model = Xception(weights=None,\n",
    "#                      input_shape=(32,32, 3),\n",
    "#                      classes=num_classes)\n",
    "    \n",
    "\n",
    "# os.environ[\"CUDA_VISIBLE_DEVICES\"]=\"0,1,2,3\"\n",
    "\n",
    "# from keras.utils import multi_gpu_model\n",
    "# parallel_model = multi_gpu_model(model,gpus=4)\n",
    "\n"
   ]
  },
  {
   "cell_type": "code",
   "execution_count": null,
   "metadata": {},
   "outputs": [],
   "source": []
  },
  {
   "cell_type": "code",
   "execution_count": 50,
   "metadata": {},
   "outputs": [
    {
     "name": "stdout",
     "output_type": "stream",
     "text": [
      "Model: \"sequential_4\"\n",
      "_________________________________________________________________\n",
      "Layer (type)                 Output Shape              Param #   \n",
      "=================================================================\n",
      "conv2d_9 (Conv2D)            (None, 32, 32, 32)        896       \n",
      "_________________________________________________________________\n",
      "activation_13 (Activation)   (None, 32, 32, 32)        0         \n",
      "_________________________________________________________________\n",
      "conv2d_10 (Conv2D)           (None, 30, 30, 32)        9248      \n",
      "_________________________________________________________________\n",
      "activation_14 (Activation)   (None, 30, 30, 32)        0         \n",
      "_________________________________________________________________\n",
      "max_pooling2d_5 (MaxPooling2 (None, 15, 15, 32)        0         \n",
      "_________________________________________________________________\n",
      "dropout_7 (Dropout)          (None, 15, 15, 32)        0         \n",
      "_________________________________________________________________\n",
      "conv2d_11 (Conv2D)           (None, 15, 15, 64)        18496     \n",
      "_________________________________________________________________\n",
      "activation_15 (Activation)   (None, 15, 15, 64)        0         \n",
      "_________________________________________________________________\n",
      "conv2d_12 (Conv2D)           (None, 13, 13, 64)        36928     \n",
      "_________________________________________________________________\n",
      "activation_16 (Activation)   (None, 13, 13, 64)        0         \n",
      "_________________________________________________________________\n",
      "max_pooling2d_6 (MaxPooling2 (None, 6, 6, 64)          0         \n",
      "_________________________________________________________________\n",
      "dropout_8 (Dropout)          (None, 6, 6, 64)          0         \n",
      "_________________________________________________________________\n",
      "flatten_3 (Flatten)          (None, 2304)              0         \n",
      "_________________________________________________________________\n",
      "dense_5 (Dense)              (None, 512)               1180160   \n",
      "_________________________________________________________________\n",
      "activation_17 (Activation)   (None, 512)               0         \n",
      "_________________________________________________________________\n",
      "dropout_9 (Dropout)          (None, 512)               0         \n",
      "_________________________________________________________________\n",
      "dense_6 (Dense)              (None, 21)                10773     \n",
      "_________________________________________________________________\n",
      "activation_18 (Activation)   (None, 21)                0         \n",
      "=================================================================\n",
      "Total params: 1,256,501\n",
      "Trainable params: 1,256,501\n",
      "Non-trainable params: 0\n",
      "_________________________________________________________________\n"
     ]
    }
   ],
   "source": [
    "model.summary()"
   ]
  },
  {
   "cell_type": "code",
   "execution_count": 51,
   "metadata": {},
   "outputs": [
    {
     "name": "stdout",
     "output_type": "stream",
     "text": [
      "Train on 84000 samples, validate on 10500 samples\n",
      "Epoch 1/30\n",
      "84000/84000 [==============================] - 16s 194us/step - loss: 2.3889 - accuracy: 0.2260 - val_loss: 1.8542 - val_accuracy: 0.3772\n",
      "val_f1: 0.3298 - val_precision: 0.3572 - val_recall: 0.3744\n",
      "Epoch 2/30\n",
      "84000/84000 [==============================] - 16s 188us/step - loss: 1.7631 - accuracy: 0.3882 - val_loss: 1.5197 - val_accuracy: 0.4782\n",
      "val_f1: 0.4416 - val_precision: 0.4808 - val_recall: 0.4762\n",
      "Epoch 3/30\n",
      "84000/84000 [==============================] - 16s 187us/step - loss: 1.5543 - accuracy: 0.4551 - val_loss: 1.3741 - val_accuracy: 0.5290\n",
      "val_f1: 0.5015 - val_precision: 0.5184 - val_recall: 0.5260\n",
      "Epoch 4/30\n",
      "84000/84000 [==============================] - 16s 187us/step - loss: 1.4468 - accuracy: 0.4888 - val_loss: 1.2918 - val_accuracy: 0.5462\n",
      "val_f1: 0.5193 - val_precision: 0.5429 - val_recall: 0.5446\n",
      "Epoch 5/30\n",
      "84000/84000 [==============================] - 16s 187us/step - loss: 1.3750 - accuracy: 0.5163 - val_loss: 1.2249 - val_accuracy: 0.5721\n",
      "val_f1: 0.5519 - val_precision: 0.5604 - val_recall: 0.5701\n",
      "Epoch 6/30\n",
      "84000/84000 [==============================] - 16s 187us/step - loss: 1.3214 - accuracy: 0.5358 - val_loss: 1.1721 - val_accuracy: 0.5883\n",
      "val_f1: 0.5720 - val_precision: 0.5881 - val_recall: 0.5870\n",
      "Epoch 7/30\n",
      "84000/84000 [==============================] - 16s 190us/step - loss: 1.2808 - accuracy: 0.5507 - val_loss: 1.1493 - val_accuracy: 0.6020\n",
      "val_f1: 0.5874 - val_precision: 0.5936 - val_recall: 0.6014\n",
      "Epoch 8/30\n",
      "84000/84000 [==============================] - 16s 189us/step - loss: 1.2448 - accuracy: 0.5598 - val_loss: 1.1052 - val_accuracy: 0.6188\n",
      "val_f1: 0.6033 - val_precision: 0.6153 - val_recall: 0.6179\n",
      "Epoch 9/30\n",
      "84000/84000 [==============================] - 16s 189us/step - loss: 1.2173 - accuracy: 0.5730 - val_loss: 1.0750 - val_accuracy: 0.6259\n",
      "val_f1: 0.6100 - val_precision: 0.6239 - val_recall: 0.6240\n",
      "Epoch 10/30\n",
      "84000/84000 [==============================] - 16s 189us/step - loss: 1.1902 - accuracy: 0.5831 - val_loss: 1.0525 - val_accuracy: 0.6368\n",
      "val_f1: 0.6231 - val_precision: 0.6328 - val_recall: 0.6359\n",
      "Epoch 11/30\n",
      "84000/84000 [==============================] - 16s 189us/step - loss: 1.1635 - accuracy: 0.5921 - val_loss: 1.0287 - val_accuracy: 0.6460\n",
      "val_f1: 0.6335 - val_precision: 0.6421 - val_recall: 0.6442\n",
      "Epoch 12/30\n",
      "84000/84000 [==============================] - 16s 189us/step - loss: 1.1457 - accuracy: 0.5985 - val_loss: 1.0168 - val_accuracy: 0.6500\n",
      "val_f1: 0.6375 - val_precision: 0.6455 - val_recall: 0.6493\n",
      "Epoch 13/30\n",
      "84000/84000 [==============================] - 16s 190us/step - loss: 1.1289 - accuracy: 0.6022 - val_loss: 0.9978 - val_accuracy: 0.6557\n",
      "val_f1: 0.6435 - val_precision: 0.6583 - val_recall: 0.6545\n",
      "Epoch 14/30\n",
      "84000/84000 [==============================] - 16s 189us/step - loss: 1.1116 - accuracy: 0.6113 - val_loss: 0.9775 - val_accuracy: 0.6621\n",
      "val_f1: 0.6506 - val_precision: 0.6589 - val_recall: 0.6610\n",
      "Epoch 15/30\n",
      "84000/84000 [==============================] - 16s 191us/step - loss: 1.0986 - accuracy: 0.6129 - val_loss: 0.9691 - val_accuracy: 0.6666\n",
      "val_f1: 0.6538 - val_precision: 0.6620 - val_recall: 0.6659\n",
      "Epoch 16/30\n",
      "84000/84000 [==============================] - 16s 189us/step - loss: 1.0839 - accuracy: 0.6212 - val_loss: 0.9535 - val_accuracy: 0.6686\n",
      "val_f1: 0.6570 - val_precision: 0.6637 - val_recall: 0.6678\n",
      "Epoch 17/30\n",
      "84000/84000 [==============================] - 16s 190us/step - loss: 1.0716 - accuracy: 0.6257 - val_loss: 0.9550 - val_accuracy: 0.6682\n",
      "val_f1: 0.6560 - val_precision: 0.6683 - val_recall: 0.6666\n",
      "Epoch 18/30\n",
      "84000/84000 [==============================] - 16s 189us/step - loss: 1.0596 - accuracy: 0.6286 - val_loss: 0.9317 - val_accuracy: 0.6746\n",
      "val_f1: 0.6637 - val_precision: 0.6743 - val_recall: 0.6732\n",
      "Epoch 19/30\n",
      "84000/84000 [==============================] - 16s 189us/step - loss: 1.0477 - accuracy: 0.6349 - val_loss: 0.9237 - val_accuracy: 0.6785\n",
      "val_f1: 0.6671 - val_precision: 0.6766 - val_recall: 0.6773\n",
      "Epoch 20/30\n",
      "84000/84000 [==============================] - 16s 189us/step - loss: 1.0427 - accuracy: 0.6360 - val_loss: 0.9157 - val_accuracy: 0.6793\n",
      "val_f1: 0.6670 - val_precision: 0.6780 - val_recall: 0.6785\n",
      "Epoch 21/30\n",
      "84000/84000 [==============================] - 16s 188us/step - loss: 1.0275 - accuracy: 0.6403 - val_loss: 0.9047 - val_accuracy: 0.6843\n",
      "val_f1: 0.6752 - val_precision: 0.6839 - val_recall: 0.6827\n",
      "Epoch 22/30\n",
      "84000/84000 [==============================] - 16s 189us/step - loss: 1.0196 - accuracy: 0.6429 - val_loss: 0.9038 - val_accuracy: 0.6870\n",
      "val_f1: 0.6766 - val_precision: 0.6878 - val_recall: 0.6862\n",
      "Epoch 23/30\n",
      "84000/84000 [==============================] - 16s 190us/step - loss: 1.0125 - accuracy: 0.6471 - val_loss: 0.8941 - val_accuracy: 0.6919\n",
      "val_f1: 0.6843 - val_precision: 0.6912 - val_recall: 0.6907\n",
      "Epoch 24/30\n",
      "84000/84000 [==============================] - 16s 188us/step - loss: 1.0061 - accuracy: 0.6482 - val_loss: 0.8837 - val_accuracy: 0.6955\n",
      "val_f1: 0.6871 - val_precision: 0.6930 - val_recall: 0.6948\n",
      "Epoch 25/30\n",
      "84000/84000 [==============================] - 16s 191us/step - loss: 0.9963 - accuracy: 0.6524 - val_loss: 0.8791 - val_accuracy: 0.6968\n",
      "val_f1: 0.6876 - val_precision: 0.6948 - val_recall: 0.6958\n",
      "Epoch 26/30\n",
      "84000/84000 [==============================] - 16s 191us/step - loss: 0.9895 - accuracy: 0.6520 - val_loss: 0.8728 - val_accuracy: 0.6992\n",
      "val_f1: 0.6905 - val_precision: 0.6983 - val_recall: 0.6977\n",
      "Epoch 27/30\n",
      "84000/84000 [==============================] - 16s 189us/step - loss: 0.9854 - accuracy: 0.6550 - val_loss: 0.8671 - val_accuracy: 0.7019\n",
      "val_f1: 0.6940 - val_precision: 0.7027 - val_recall: 0.7008\n",
      "Epoch 28/30\n",
      "84000/84000 [==============================] - 16s 188us/step - loss: 0.9753 - accuracy: 0.6590 - val_loss: 0.8573 - val_accuracy: 0.7026\n",
      "val_f1: 0.6946 - val_precision: 0.7014 - val_recall: 0.7011\n",
      "Epoch 29/30\n",
      "84000/84000 [==============================] - 16s 189us/step - loss: 0.9694 - accuracy: 0.6614 - val_loss: 0.8538 - val_accuracy: 0.7069\n",
      "val_f1: 0.6998 - val_precision: 0.7054 - val_recall: 0.7059\n",
      "Epoch 30/30\n",
      "84000/84000 [==============================] - 16s 188us/step - loss: 0.9687 - accuracy: 0.6613 - val_loss: 0.8529 - val_accuracy: 0.7055\n",
      "val_f1: 0.6976 - val_precision: 0.7005 - val_recall: 0.7045\n"
     ]
    }
   ],
   "source": [
    "\n",
    "f1_metrics = Metrics()\n",
    "model.compile(\n",
    "    loss='categorical_crossentropy',\n",
    "    optimizer=sgd,\n",
    "    metrics=['accuracy']\n",
    ")\n",
    "\n",
    "hist = model.fit(\n",
    "    X_train, \n",
    "    y_train,\n",
    "    batch_size=batch_size,\n",
    "    epochs=epochs,\n",
    "    callbacks=[f1_metrics],\n",
    "    validation_data=(X_validate, y_valid)\n",
    ")"
   ]
  },
  {
   "cell_type": "code",
   "execution_count": 31,
   "metadata": {},
   "outputs": [
    {
     "ename": "TypeError",
     "evalue": "'module' object is not callable",
     "output_type": "error",
     "traceback": [
      "\u001b[0;31m---------------------------------------------------------------------------\u001b[0m",
      "\u001b[0;31mTypeError\u001b[0m                                 Traceback (most recent call last)",
      "\u001b[0;32m<ipython-input-31-4324856aa930>\u001b[0m in \u001b[0;36m<module>\u001b[0;34m\u001b[0m\n\u001b[0;32m----> 1\u001b[0;31m \u001b[0mstart_time\u001b[0m \u001b[0;34m=\u001b[0m \u001b[0mtime\u001b[0m\u001b[0;34m(\u001b[0m\u001b[0;34m)\u001b[0m\u001b[0;34m\u001b[0m\u001b[0;34m\u001b[0m\u001b[0m\n\u001b[0m\u001b[1;32m      2\u001b[0m \u001b[0mprint\u001b[0m\u001b[0;34m(\u001b[0m\u001b[0;34m'Training model...'\u001b[0m\u001b[0;34m)\u001b[0m\u001b[0;34m\u001b[0m\u001b[0;34m\u001b[0m\u001b[0m\n\u001b[1;32m      3\u001b[0m \u001b[0;34m\u001b[0m\u001b[0m\n\u001b[1;32m      4\u001b[0m \u001b[0;34m\u001b[0m\u001b[0m\n\u001b[1;32m      5\u001b[0m hist = model.fit(\n",
      "\u001b[0;31mTypeError\u001b[0m: 'module' object is not callable"
     ]
    }
   ],
   "source": [
    "start_time = time()\n",
    "print('Training model...')\n",
    "\n",
    "\n",
    "hist = model.fit(\n",
    "    X_train, \n",
    "    y_train,\n",
    "    batch_size=batch_size,\n",
    "    epochs=epochs,\n",
    "    callbacks=[early_stopping,f1_metrics],\n",
    "    validation_data = (X_validate,y_validate))\n",
    "\n",
    "end_time = time()\n",
    "print('Running time: %s seconds'%(end_time - start_time))"
   ]
  },
  {
   "cell_type": "markdown",
   "metadata": {},
   "source": [
    "### 3."
   ]
  },
  {
   "cell_type": "code",
   "execution_count": 21,
   "metadata": {},
   "outputs": [],
   "source": [
    "model.save('/home/zxt/data/model/cnn_baseline_5k_32_128batchsize100epoch.h5')"
   ]
  },
  {
   "cell_type": "code",
   "execution_count": null,
   "metadata": {},
   "outputs": [],
   "source": []
  },
  {
   "cell_type": "markdown",
   "metadata": {},
   "source": [
    "### 4. Evaluation"
   ]
  },
  {
   "cell_type": "code",
   "execution_count": 52,
   "metadata": {},
   "outputs": [],
   "source": [
    "history_df = pd.DataFrame(hist.history)\n",
    "history_df['val_f1'] = f1_metrics.val_f1s\n",
    "history_df['val_precision'] = f1_metrics.val_precisions\n",
    "history_df['val_recall'] = f1_metrics.val_recalls\n",
    "\n",
    "# history_df[['loss', 'val_loss']].plot()\n",
    "# history_df[['acc', 'val_acc']].plot()\n",
    "# history_df[['val_f1', 'val_precision', 'val_recall']].plot()"
   ]
  },
  {
   "cell_type": "code",
   "execution_count": 54,
   "metadata": {},
   "outputs": [
    {
     "data": {
      "text/plain": [
       "<matplotlib.axes._subplots.AxesSubplot at 0x7f244cd76250>"
      ]
     },
     "execution_count": 54,
     "metadata": {},
     "output_type": "execute_result"
    },
    {
     "data": {
      "image/png": "[encoded data removed]",
      "text/plain": [
       "<Figure size 432x288 with 1 Axes>"
      ]
     },
     "metadata": {
      "needs_background": "light"
     },
     "output_type": "display_data"
    }
   ],
   "source": [
    "history_df[['loss', 'val_loss']].plot()"
   ]
  },
  {
   "cell_type": "code",
   "execution_count": 55,
   "metadata": {},
   "outputs": [
    {
     "data": {
      "text/plain": [
       "<matplotlib.axes._subplots.AxesSubplot at 0x7f244ccf3510>"
      ]
     },
     "execution_count": 55,
     "metadata": {},
     "output_type": "execute_result"
    },
    {
     "data": {
      "image/png": "[encoded data removed]",
      "text/plain": [
       "<Figure size 432x288 with 1 Axes>"
      ]
     },
     "metadata": {
      "needs_background": "light"
     },
     "output_type": "display_data"
    }
   ],
   "source": [
    "history_df[['val_f1', 'val_precision', 'val_recall']].plot()"
   ]
  },
  {
   "cell_type": "code",
   "execution_count": 56,
   "metadata": {},
   "outputs": [
    {
     "data": {
      "text/plain": [
       "<matplotlib.axes._subplots.AxesSubplot at 0x7f244cc0f6d0>"
      ]
     },
     "execution_count": 56,
     "metadata": {},
     "output_type": "execute_result"
    },
    {
     "data": {
      "image/png": "[encoded data removed]",
      "text/plain": [
       "<Figure size 432x288 with 1 Axes>"
      ]
     },
     "metadata": {
      "needs_background": "light"
     },
     "output_type": "display_data"
    }
   ],
   "source": [
    "history_df[['accuracy', 'val_accuracy']].plot()"
   ]
  },
  {
   "cell_type": "markdown",
   "metadata": {},
   "source": [
    "### 5. Prediction"
   ]
  },
  {
   "cell_type": "code",
   "execution_count": 57,
   "metadata": {},
   "outputs": [
    {
     "name": "stdout",
     "output_type": "stream",
     "text": [
      "10500/10500 [==============================] - 2s 179us/step\n",
      "\n",
      "test loss 0.8376214739481608\n",
      "accuracy 0.7183809280395508\n"
     ]
    }
   ],
   "source": [
    "loss,accuracy = model.evaluate(X_test,y_test,)\n",
    "print('\\ntest loss',loss)\n",
    "print('accuracy',accuracy)"
   ]
  },
  {
   "cell_type": "code",
   "execution_count": null,
   "metadata": {},
   "outputs": [],
   "source": []
  },
  {
   "cell_type": "code",
   "execution_count": null,
   "metadata": {},
   "outputs": [],
   "source": []
  },
  {
   "cell_type": "code",
   "execution_count": null,
   "metadata": {},
   "outputs": [],
   "source": []
  }
 ],
 "metadata": {
  "kernelspec": {
   "display_name": "Python 3",
   "language": "python",
   "name": "python3"
  },
  "language_info": {
   "codemirror_mode": {
    "name": "ipython",
    "version": 3
   },
   "file_extension": ".py",
   "mimetype": "text/x-python",
   "name": "python",
   "nbconvert_exporter": "python",
   "pygments_lexer": "ipython3",
   "version": "3.7.4"
  }
 },
 "nbformat": 4,
 "nbformat_minor": 4
}
