{
 "cells": [
  {
   "cell_type": "code",
   "execution_count": 1,
   "metadata": {},
   "outputs": [],
   "source": [
    "%%capture\n",
    "import keras\n",
    "import keras.backend as K\n",
    "from keras.models import Model\n",
    "from keras.layers import Input, Dense, Conv2D, Conv3D, DepthwiseConv2D, SeparableConv2D, Conv3DTranspose\n",
    "from keras.layers import Flatten, MaxPool2D, AvgPool2D, GlobalAvgPool2D, UpSampling2D, BatchNormalization\n",
    "from keras.layers import Concatenate, Add, Dropout, ReLU, Lambda, Activation, LeakyReLU, PReLU\n",
    "from keras.utils import np_utils\n",
    "from IPython.display import SVG\n",
    "from keras.utils.vis_utils import model_to_dot\n",
    "from keras.optimizers import SGD\n",
    "from keras.models import Sequential\n",
    "from time import time\n",
    "from keras.callbacks import EarlyStopping\n",
    "from sklearn.metrics import confusion_matrix, f1_score, precision_score, recall_score\n",
    "from keras.callbacks import Callback\n",
    "from keras.preprocessing.image import ImageDataGenerator\n",
    "from keras.layers import Dense, Dropout, Activation, Flatten\n",
    "from keras.layers import Conv2D, MaxPooling2D\n",
    "from sklearn.metrics import confusion_matrix, f1_score, precision_score, recall_score\n",
    "\n",
    "import numpy as np\n",
    "import pandas as pd\n",
    "import matplotlib, os, math\n",
    "\n",
    "os.environ[\"CUDA_VISIBLE_DEVICES\"]=\"1\""
   ]
  },
  {
   "cell_type": "markdown",
   "metadata": {},
   "source": [
    "### 1.Prepare data"
   ]
  },
  {
   "cell_type": "code",
   "execution_count": 2,
   "metadata": {},
   "outputs": [
    {
     "name": "stdout",
     "output_type": "stream",
     "text": [
      "Loading X_train...\n",
      "Running time: 905.5622770786285 seconds\n"
     ]
    }
   ],
   "source": [
    "from time import time\n",
    "import numpy as np\n",
    "\n",
    "start_time = time()\n",
    "\n",
    "print('Loading X_train...')\n",
    "X_train = np.load('/home/zxt/data/21_category/224/5k/X_train.npy')\n",
    "\n",
    "\n",
    "end_time = time()\n",
    "print('Running time: %s seconds'%(end_time - start_time))"
   ]
  },
  {
   "cell_type": "code",
   "execution_count": 3,
   "metadata": {},
   "outputs": [
    {
     "data": {
      "text/plain": [
       "94500"
      ]
     },
     "execution_count": 3,
     "metadata": {},
     "output_type": "execute_result"
    }
   ],
   "source": [
    "len(X_train)"
   ]
  },
  {
   "cell_type": "code",
   "execution_count": 4,
   "metadata": {},
   "outputs": [
    {
     "name": "stdout",
     "output_type": "stream",
     "text": [
      "Loading X_validate...\n",
      "Loading X_test...\n",
      "Loading labels...\n",
      "Running time: 100.91617321968079 seconds\n"
     ]
    }
   ],
   "source": [
    "from time import time\n",
    "import numpy as np\n",
    "\n",
    "start_time = time()\n",
    "\n",
    "print('Loading X_validate...')\n",
    "X_validate = np.load('/home/zxt/data/21_category/224/5k/X_validate.npy')\n",
    "print('Loading X_test...')\n",
    "X_test = np.load('/home/zxt/data/21_category/224/5k/X_test.npy')\n",
    "\n",
    "print('Loading labels...')\n",
    "Y_train = np.load('/home/zxt/data/21_category/224/5k/Y_train.npy')\n",
    "Y_validate = np.load('/home/zxt/data/21_category/224/5k/Y_validate.npy')\n",
    "Y_test = np.load('/home/zxt/data/21_category/224/5k/Y_test.npy')\n",
    "\n",
    "end_time = time()\n",
    "print('Running time: %s seconds'%(end_time - start_time))"
   ]
  },
  {
   "cell_type": "code",
   "execution_count": 5,
   "metadata": {},
   "outputs": [
    {
     "name": "stdout",
     "output_type": "stream",
     "text": [
      "X_train shape: (94500, 224, 224, 3)\n",
      "94500 train samples\n",
      "5250 validate samples\n",
      "5250 test samples\n"
     ]
    }
   ],
   "source": [
    "print('X_train shape:', X_train.shape)\n",
    "print(X_train.shape[0], 'train samples')\n",
    "print(X_validate.shape[0], 'validate samples')\n",
    "print(X_test.shape[0], 'test samples')"
   ]
  },
  {
   "cell_type": "code",
   "execution_count": 6,
   "metadata": {},
   "outputs": [],
   "source": [
    "X_train /=255.\n",
    "X_validate /=  255.\n",
    "X_test /= 255."
   ]
  },
  {
   "cell_type": "code",
   "execution_count": 7,
   "metadata": {},
   "outputs": [],
   "source": [
    "\n",
    "# Y_train label\n",
    "for i in Y_train:\n",
    "    if i[0]=='elephant':\n",
    "        i[0]=0\n",
    "    if i[0]=='wild_boar':\n",
    "        i[0]=1\n",
    "    if i[0]=='gazellethomosons':\n",
    "        i[0]=2\n",
    "    if i[0]=='squirrel':\n",
    "        i[0]=3 \n",
    "    if i[0]=='hedgehog':\n",
    "        i[0]=4\n",
    "    if i[0]=='guineafowl':\n",
    "        i[0]=5\n",
    "    if i[0]=='moose':\n",
    "        i[0]=6\n",
    "    if i[0]=='coyote':\n",
    "        i[0]=7   \n",
    "    if i[0]=='bird':\n",
    "        i[0]=8\n",
    "    if i[0]=='fox':\n",
    "        i[0]=9\n",
    "    if i[0]=='giraffe':\n",
    "        i[0]=10\n",
    "    if i[0]=='buffalo':\n",
    "        i[0]=11\n",
    "    if i[0]=='hare':\n",
    "        i[0]=12\n",
    "    if i[0]=='vehicle':\n",
    "        i[0]=13\n",
    "    if i[0]=='wildebeest':\n",
    "        i[0]=14\n",
    "    if i[0]=='cattle':\n",
    "        i[0]=15 \n",
    "    if i[0]=='skunk':\n",
    "        i[0]=16\n",
    "    if i[0]=='lion':\n",
    "        i[0]=17\n",
    "    if i[0]=='zebra':\n",
    "        i[0]=18\n",
    "    if i[0]=='black_bear':\n",
    "        i[0]=19\n",
    "    if i[0]=='racoon':\n",
    "        i[0]=20\n",
    "        \n",
    "for i in Y_validate:\n",
    "    if i[0]=='elephant':\n",
    "        i[0]=0\n",
    "    if i[0]=='wild_boar':\n",
    "        i[0]=1\n",
    "    if i[0]=='gazellethomosons':\n",
    "        i[0]=2\n",
    "    if i[0]=='squirrel':\n",
    "        i[0]=3 \n",
    "    if i[0]=='hedgehog':\n",
    "        i[0]=4\n",
    "    if i[0]=='guineafowl':\n",
    "        i[0]=5\n",
    "    if i[0]=='moose':\n",
    "        i[0]=6\n",
    "    if i[0]=='coyote':\n",
    "        i[0]=7   \n",
    "    if i[0]=='bird':\n",
    "        i[0]=8\n",
    "    if i[0]=='fox':\n",
    "        i[0]=9\n",
    "    if i[0]=='giraffe':\n",
    "        i[0]=10\n",
    "    if i[0]=='buffalo':\n",
    "        i[0]=11\n",
    "    if i[0]=='hare':\n",
    "        i[0]=12\n",
    "    if i[0]=='vehicle':\n",
    "        i[0]=13\n",
    "    if i[0]=='wildebeest':\n",
    "        i[0]=14\n",
    "    if i[0]=='cattle':\n",
    "        i[0]=15 \n",
    "    if i[0]=='skunk':\n",
    "        i[0]=16\n",
    "    if i[0]=='lion':\n",
    "        i[0]=17\n",
    "    if i[0]=='zebra':\n",
    "        i[0]=18\n",
    "    if i[0]=='black_bear':\n",
    "        i[0]=19\n",
    "    if i[0]=='racoon':\n",
    "        i[0]=20\n",
    "\n",
    "for i in Y_test:\n",
    "    if i[0]=='elephant':\n",
    "        i[0]=0\n",
    "    if i[0]=='wild_boar':\n",
    "        i[0]=1\n",
    "    if i[0]=='gazellethomosons':\n",
    "        i[0]=2\n",
    "    if i[0]=='squirrel':\n",
    "        i[0]=3 \n",
    "    if i[0]=='hedgehog':\n",
    "        i[0]=4\n",
    "    if i[0]=='guineafowl':\n",
    "        i[0]=5\n",
    "    if i[0]=='moose':\n",
    "        i[0]=6\n",
    "    if i[0]=='coyote':\n",
    "        i[0]=7   \n",
    "    if i[0]=='bird':\n",
    "        i[0]=8\n",
    "    if i[0]=='fox':\n",
    "        i[0]=9\n",
    "    if i[0]=='giraffe':\n",
    "        i[0]=10\n",
    "    if i[0]=='buffalo':\n",
    "        i[0]=11\n",
    "    if i[0]=='hare':\n",
    "        i[0]=12\n",
    "    if i[0]=='vehicle':\n",
    "        i[0]=13\n",
    "    if i[0]=='wildebeest':\n",
    "        i[0]=14\n",
    "    if i[0]=='cattle':\n",
    "        i[0]=15 \n",
    "    if i[0]=='skunk':\n",
    "        i[0]=16\n",
    "    if i[0]=='lion':\n",
    "        i[0]=17\n",
    "    if i[0]=='zebra':\n",
    "        i[0]=18\n",
    "    if i[0]=='black_bear':\n",
    "        i[0]=19\n",
    "    if i[0]=='racoon':\n",
    "        i[0]=20"
   ]
  },
  {
   "cell_type": "code",
   "execution_count": 8,
   "metadata": {},
   "outputs": [],
   "source": [
    "# one-hot encoder[only accpet int]\n",
    "y_train=np_utils.to_categorical(Y_train,21)\n",
    "y_validate=np_utils.to_categorical(Y_validate,21)\n",
    "y_test=np_utils.to_categorical(Y_test,21)"
   ]
  },
  {
   "cell_type": "code",
   "execution_count": 9,
   "metadata": {},
   "outputs": [
    {
     "data": {
      "text/plain": [
       "array([[0., 0., 0., ..., 0., 0., 0.],\n",
       "       [0., 0., 0., ..., 0., 0., 0.],\n",
       "       [0., 0., 0., ..., 0., 0., 0.],\n",
       "       ...,\n",
       "       [0., 0., 0., ..., 0., 0., 0.],\n",
       "       [0., 0., 0., ..., 0., 0., 0.],\n",
       "       [0., 0., 0., ..., 0., 0., 0.]], dtype=float32)"
      ]
     },
     "execution_count": 9,
     "metadata": {},
     "output_type": "execute_result"
    }
   ],
   "source": [
    "y_test"
   ]
  },
  {
   "cell_type": "markdown",
   "metadata": {},
   "source": [
    "### 2.Model structure"
   ]
  },
  {
   "cell_type": "code",
   "execution_count": 10,
   "metadata": {},
   "outputs": [],
   "source": [
    "def alexnet_s(input_shape, n_classes):\n",
    "    input = Input(input_shape)\n",
    "  \n",
    "    # actually batch normalization didn't exist back then\n",
    "    # they used LRN (Local Response Normalization) for regularization\n",
    "    x = Conv2D(96, 11, strides=4, padding='same', activation='relu')(input)\n",
    "    x = BatchNormalization()(x)\n",
    "    x = MaxPool2D(3, strides=2)(x)\n",
    "  \n",
    "    x = Conv2D(256, 5, padding='same', activation='relu')(x)\n",
    "    x = BatchNormalization()(x)\n",
    "    x = MaxPool2D(3, strides=2)(x)\n",
    "  \n",
    "    x = Conv2D(384, 3, strides=1, padding='same', activation='relu')(x)\n",
    "  \n",
    "    x = Conv2D(384, 3, strides=1, padding='same', activation='relu')(x)\n",
    "  \n",
    "    x = Conv2D(256, 3, strides=1, padding='same', activation='relu')(x)\n",
    "    x = BatchNormalization()(x)\n",
    "    x = MaxPool2D(3, strides=2)(x)\n",
    "  \n",
    "    x = Flatten()(x)\n",
    "    x = Dense(4096, activation='relu')(x)\n",
    "    x = Dense(4096, activation='relu')(x)\n",
    "    \n",
    "    #s: add two more layers to train\n",
    "    x = Dropout(0.4)(x)\n",
    "    x = Dense(4096, activation='relu')(x)\n",
    "    x = Dropout(0.4)(x)\n",
    "    x = Dense(4096, activation='relu')(x)\n",
    "  \n",
    "    output = Dense(n_classes, activation='softmax')(x)\n",
    "  \n",
    "    model = Model(input, output)\n",
    "    return model"
   ]
  },
  {
   "cell_type": "code",
   "execution_count": 11,
   "metadata": {},
   "outputs": [],
   "source": [
    "# prevent overfitting\n",
    "early_stopping = EarlyStopping(monitor='val_loss', patience=10, verbose=1)"
   ]
  },
  {
   "cell_type": "code",
   "execution_count": 12,
   "metadata": {},
   "outputs": [],
   "source": [
    "from keras.callbacks import Callback\n",
    "class Metrics(Callback):\n",
    "\n",
    "    def on_train_begin(self, logs={}):\n",
    "        self.val_f1s = []\n",
    "        self.val_recalls = []\n",
    "        self.val_precisions = []\n",
    "\n",
    "    def on_epoch_end(self, epoch, logs={}):\n",
    "        X_val, y_val = self.validation_data[:2]\n",
    "        y_pred = self.model.predict(X_val)\n",
    "\n",
    "        y_pred_cat = keras.utils.to_categorical(\n",
    "            y_pred.argmax(axis=1),\n",
    "            num_classes=num_classes\n",
    "        )\n",
    "\n",
    "        _val_f1 = f1_score(y_val, y_pred_cat, average='macro')\n",
    "        _val_recall = recall_score(y_val, y_pred_cat, average='macro')\n",
    "        _val_precision = precision_score(y_val, y_pred_cat, average='macro')\n",
    "\n",
    "        self.val_f1s.append(_val_f1)\n",
    "        self.val_recalls.append(_val_recall)\n",
    "        self.val_precisions.append(_val_precision)\n",
    "\n",
    "        print((f\"val_f1: {_val_f1:.4f}\"\n",
    "               f\" - val_precision: {_val_precision:.4f}\"\n",
    "               f\" - val_recall: {_val_recall:.4f}\"))\n",
    "\n",
    "        return"
   ]
  },
  {
   "cell_type": "markdown",
   "metadata": {},
   "source": [
    "### 3.Modeling"
   ]
  },
  {
   "cell_type": "code",
   "execution_count": 13,
   "metadata": {},
   "outputs": [],
   "source": [
    "num_train_samples = len(Y_train)\n",
    "num_val_samples = len(Y_validate)\n",
    "batch_size = 128\n",
    "epochs = 40\n",
    "n_classes = 21\n",
    "input_shape = 224,224,3\n",
    "\n",
    "learning_rate = 0.01\n",
    "decay_rate = learning_rate / epochs\n",
    "momentum = 0.8\n",
    "sgd = SGD(lr=learning_rate, momentum=momentum, decay=decay_rate, nesterov=False)"
   ]
  },
  {
   "cell_type": "code",
   "execution_count": 14,
   "metadata": {},
   "outputs": [
    {
     "name": "stdout",
     "output_type": "stream",
     "text": [
      "Model: \"model_1\"\n",
      "_________________________________________________________________\n",
      "Layer (type)                 Output Shape              Param #   \n",
      "=================================================================\n",
      "input_1 (InputLayer)         (None, 224, 224, 3)       0         \n",
      "_________________________________________________________________\n",
      "conv2d_1 (Conv2D)            (None, 56, 56, 96)        34944     \n",
      "_________________________________________________________________\n",
      "batch_normalization_1 (Batch (None, 56, 56, 96)        384       \n",
      "_________________________________________________________________\n",
      "max_pooling2d_1 (MaxPooling2 (None, 27, 27, 96)        0         \n",
      "_________________________________________________________________\n",
      "conv2d_2 (Conv2D)            (None, 27, 27, 256)       614656    \n",
      "_________________________________________________________________\n",
      "batch_normalization_2 (Batch (None, 27, 27, 256)       1024      \n",
      "_________________________________________________________________\n",
      "max_pooling2d_2 (MaxPooling2 (None, 13, 13, 256)       0         \n",
      "_________________________________________________________________\n",
      "conv2d_3 (Conv2D)            (None, 13, 13, 384)       885120    \n",
      "_________________________________________________________________\n",
      "conv2d_4 (Conv2D)            (None, 13, 13, 384)       1327488   \n",
      "_________________________________________________________________\n",
      "conv2d_5 (Conv2D)            (None, 13, 13, 256)       884992    \n",
      "_________________________________________________________________\n",
      "batch_normalization_3 (Batch (None, 13, 13, 256)       1024      \n",
      "_________________________________________________________________\n",
      "max_pooling2d_3 (MaxPooling2 (None, 6, 6, 256)         0         \n",
      "_________________________________________________________________\n",
      "flatten_1 (Flatten)          (None, 9216)              0         \n",
      "_________________________________________________________________\n",
      "dense_1 (Dense)              (None, 4096)              37752832  \n",
      "_________________________________________________________________\n",
      "dense_2 (Dense)              (None, 4096)              16781312  \n",
      "_________________________________________________________________\n",
      "dropout_1 (Dropout)          (None, 4096)              0         \n",
      "_________________________________________________________________\n",
      "dense_3 (Dense)              (None, 4096)              16781312  \n",
      "_________________________________________________________________\n",
      "dropout_2 (Dropout)          (None, 4096)              0         \n",
      "_________________________________________________________________\n",
      "dense_4 (Dense)              (None, 4096)              16781312  \n",
      "_________________________________________________________________\n",
      "dense_5 (Dense)              (None, 21)                86037     \n",
      "=================================================================\n",
      "Total params: 91,932,437\n",
      "Trainable params: 91,931,221\n",
      "Non-trainable params: 1,216\n",
      "_________________________________________________________________\n"
     ]
    }
   ],
   "source": [
    "K.clear_session()\n",
    "# model = alexnet(input_shape, n_classes)\n",
    "model = alexnet_s(input_shape,n_classes)\n",
    "model.summary()"
   ]
  },
  {
   "cell_type": "code",
   "execution_count": 15,
   "metadata": {},
   "outputs": [],
   "source": [
    "model.compile(loss='categorical_crossentropy',optimizer=sgd,metrics=['accuracy'])"
   ]
  },
  {
   "cell_type": "code",
   "execution_count": 16,
   "metadata": {},
   "outputs": [],
   "source": [
    "num_classes = 21\n",
    "f1_metrics = Metrics()"
   ]
  },
  {
   "cell_type": "code",
   "execution_count": 18,
   "metadata": {},
   "outputs": [],
   "source": [
    "# Data augmentation\n",
    "\n",
    "image_datagen = ImageDataGenerator(\n",
    "    rotation_range=30,\n",
    "    width_shift_range=0.2,\n",
    "    height_shift_range=0.2,\n",
    "    shear_range=0.3,\n",
    "    zoom_range=0.2,\n",
    "    horizontal_flip=True,\n",
    "    brightness_range=(0.6,1),\n",
    "    fill_mode=\"nearest\")\n",
    "\n",
    "image_datagen.fit(X_train, augment=True)"
   ]
  },
  {
   "cell_type": "code",
   "execution_count": 17,
   "metadata": {},
   "outputs": [
    {
     "name": "stdout",
     "output_type": "stream",
     "text": [
      "Training model...\n",
      "Train on 94500 samples, validate on 5250 samples\n",
      "Epoch 1/40\n",
      "94500/94500 [==============================] - 473s 5ms/step - loss: 1.4724 - accuracy: 0.4911 - val_loss: 1.0762 - val_accuracy: 0.6290\n",
      "val_f1: 0.6102 - val_precision: 0.6369 - val_recall: 0.6306\n",
      "Epoch 2/40\n",
      "94500/94500 [==============================] - 443s 5ms/step - loss: 0.9580 - accuracy: 0.6650 - val_loss: 0.8188 - val_accuracy: 0.7139\n",
      "val_f1: 0.7074 - val_precision: 0.7181 - val_recall: 0.7153\n",
      "Epoch 3/40\n",
      "94500/94500 [==============================] - 443s 5ms/step - loss: 0.7434 - accuracy: 0.7424 - val_loss: 0.7884 - val_accuracy: 0.7280\n",
      "val_f1: 0.7246 - val_precision: 0.7476 - val_recall: 0.7278\n",
      "Epoch 4/40\n",
      "94500/94500 [==============================] - 443s 5ms/step - loss: 0.6010 - accuracy: 0.7929 - val_loss: 0.7018 - val_accuracy: 0.7568\n",
      "val_f1: 0.7587 - val_precision: 0.7848 - val_recall: 0.7533\n",
      "Epoch 5/40\n",
      "94500/94500 [==============================] - 442s 5ms/step - loss: 0.4838 - accuracy: 0.8337 - val_loss: 0.5379 - val_accuracy: 0.8213\n",
      "val_f1: 0.8216 - val_precision: 0.8304 - val_recall: 0.8216\n",
      "Epoch 6/40\n",
      "94500/94500 [==============================] - 442s 5ms/step - loss: 0.3917 - accuracy: 0.8651 - val_loss: 0.5181 - val_accuracy: 0.8352\n",
      "val_f1: 0.8341 - val_precision: 0.8420 - val_recall: 0.8346\n",
      "Epoch 7/40\n",
      "94500/94500 [==============================] - 442s 5ms/step - loss: 0.3178 - accuracy: 0.8894 - val_loss: 0.4935 - val_accuracy: 0.8469\n",
      "val_f1: 0.8477 - val_precision: 0.8558 - val_recall: 0.8462\n",
      "Epoch 8/40\n",
      "94500/94500 [==============================] - 442s 5ms/step - loss: 0.2565 - accuracy: 0.9118 - val_loss: 0.4532 - val_accuracy: 0.8606\n",
      "val_f1: 0.8602 - val_precision: 0.8608 - val_recall: 0.8621\n",
      "Epoch 9/40\n",
      "94500/94500 [==============================] - 442s 5ms/step - loss: 0.2051 - accuracy: 0.9284 - val_loss: 0.4593 - val_accuracy: 0.8644\n",
      "val_f1: 0.8634 - val_precision: 0.8650 - val_recall: 0.8656\n",
      "Epoch 10/40\n",
      "94500/94500 [==============================] - 442s 5ms/step - loss: 0.1653 - accuracy: 0.9426 - val_loss: 0.4476 - val_accuracy: 0.8827\n",
      "val_f1: 0.8823 - val_precision: 0.8850 - val_recall: 0.8824\n",
      "Epoch 11/40\n",
      "94500/94500 [==============================] - 442s 5ms/step - loss: 0.1327 - accuracy: 0.9545 - val_loss: 0.4524 - val_accuracy: 0.8890\n",
      "val_f1: 0.8889 - val_precision: 0.8908 - val_recall: 0.8891\n",
      "Epoch 12/40\n",
      "94500/94500 [==============================] - 443s 5ms/step - loss: 0.1089 - accuracy: 0.9627 - val_loss: 0.4899 - val_accuracy: 0.8798\n",
      "val_f1: 0.8804 - val_precision: 0.8841 - val_recall: 0.8794\n",
      "Epoch 13/40\n",
      "94500/94500 [==============================] - 442s 5ms/step - loss: 0.0885 - accuracy: 0.9700 - val_loss: 0.4888 - val_accuracy: 0.8926\n",
      "val_f1: 0.8935 - val_precision: 0.8970 - val_recall: 0.8930\n",
      "Epoch 14/40\n",
      "94500/94500 [==============================] - 442s 5ms/step - loss: 0.0763 - accuracy: 0.9742 - val_loss: 0.4734 - val_accuracy: 0.8973\n",
      "val_f1: 0.8971 - val_precision: 0.8986 - val_recall: 0.8976\n",
      "Epoch 15/40\n",
      "94500/94500 [==============================] - 442s 5ms/step - loss: 0.0622 - accuracy: 0.9789 - val_loss: 0.5072 - val_accuracy: 0.8941\n",
      "val_f1: 0.8938 - val_precision: 0.8949 - val_recall: 0.8943\n",
      "Epoch 16/40\n",
      "94500/94500 [==============================] - 441s 5ms/step - loss: 0.0511 - accuracy: 0.9834 - val_loss: 0.5551 - val_accuracy: 0.8867\n",
      "val_f1: 0.8859 - val_precision: 0.8873 - val_recall: 0.8875\n",
      "Epoch 17/40\n",
      "94500/94500 [==============================] - 441s 5ms/step - loss: 0.0439 - accuracy: 0.9850 - val_loss: 0.5092 - val_accuracy: 0.8981\n",
      "val_f1: 0.8977 - val_precision: 0.8987 - val_recall: 0.8978\n",
      "Epoch 18/40\n",
      "94500/94500 [==============================] - 441s 5ms/step - loss: 0.0377 - accuracy: 0.9876 - val_loss: 0.5398 - val_accuracy: 0.9013\n",
      "val_f1: 0.9010 - val_precision: 0.9020 - val_recall: 0.9016\n",
      "Epoch 19/40\n",
      "94500/94500 [==============================] - 441s 5ms/step - loss: 0.0338 - accuracy: 0.9886 - val_loss: 0.5549 - val_accuracy: 0.8950\n",
      "val_f1: 0.8953 - val_precision: 0.8975 - val_recall: 0.8950\n",
      "Epoch 20/40\n",
      "94500/94500 [==============================] - 441s 5ms/step - loss: 0.0268 - accuracy: 0.9914 - val_loss: 0.5506 - val_accuracy: 0.9023\n",
      "val_f1: 0.9024 - val_precision: 0.9030 - val_recall: 0.9030\n",
      "Epoch 21/40\n",
      "94500/94500 [==============================] - 440s 5ms/step - loss: 0.0250 - accuracy: 0.9915 - val_loss: 0.5645 - val_accuracy: 0.9072\n",
      "val_f1: 0.9069 - val_precision: 0.9074 - val_recall: 0.9074\n",
      "Epoch 22/40\n",
      "94500/94500 [==============================] - 441s 5ms/step - loss: 0.0214 - accuracy: 0.9931 - val_loss: 0.5547 - val_accuracy: 0.9053\n",
      "val_f1: 0.9053 - val_precision: 0.9055 - val_recall: 0.9055\n",
      "Epoch 23/40\n",
      "94500/94500 [==============================] - 441s 5ms/step - loss: 0.0178 - accuracy: 0.9945 - val_loss: 0.5919 - val_accuracy: 0.9093\n",
      "val_f1: 0.9094 - val_precision: 0.9099 - val_recall: 0.9098\n",
      "Epoch 24/40\n",
      "94500/94500 [==============================] - 441s 5ms/step - loss: 0.0155 - accuracy: 0.9953 - val_loss: 0.5688 - val_accuracy: 0.9078\n",
      "val_f1: 0.9074 - val_precision: 0.9081 - val_recall: 0.9080\n",
      "Epoch 25/40\n",
      "94500/94500 [==============================] - 440s 5ms/step - loss: 0.0141 - accuracy: 0.9952 - val_loss: 0.5579 - val_accuracy: 0.9105\n",
      "val_f1: 0.9103 - val_precision: 0.9106 - val_recall: 0.9106\n",
      "Epoch 26/40\n",
      "94500/94500 [==============================] - 441s 5ms/step - loss: 0.0133 - accuracy: 0.9958 - val_loss: 0.5801 - val_accuracy: 0.9118\n",
      "val_f1: 0.9118 - val_precision: 0.9122 - val_recall: 0.9121\n",
      "Epoch 27/40\n",
      "94500/94500 [==============================] - 441s 5ms/step - loss: 0.0113 - accuracy: 0.9965 - val_loss: 0.5958 - val_accuracy: 0.9093\n",
      "val_f1: 0.9090 - val_precision: 0.9093 - val_recall: 0.9096\n",
      "Epoch 28/40\n",
      "94500/94500 [==============================] - 441s 5ms/step - loss: 0.0104 - accuracy: 0.9969 - val_loss: 0.6005 - val_accuracy: 0.9099\n",
      "val_f1: 0.9098 - val_precision: 0.9102 - val_recall: 0.9103\n",
      "Epoch 29/40\n",
      "94500/94500 [==============================] - 442s 5ms/step - loss: 0.0096 - accuracy: 0.9972 - val_loss: 0.6104 - val_accuracy: 0.9124\n",
      "val_f1: 0.9121 - val_precision: 0.9122 - val_recall: 0.9129\n",
      "Epoch 30/40\n",
      "94500/94500 [==============================] - 440s 5ms/step - loss: 0.0080 - accuracy: 0.9977 - val_loss: 0.6252 - val_accuracy: 0.9109\n",
      "val_f1: 0.9108 - val_precision: 0.9111 - val_recall: 0.9112\n",
      "Epoch 31/40\n",
      "94500/94500 [==============================] - 441s 5ms/step - loss: 0.0076 - accuracy: 0.9977 - val_loss: 0.6004 - val_accuracy: 0.9103\n",
      "val_f1: 0.9102 - val_precision: 0.9106 - val_recall: 0.9104\n",
      "Epoch 32/40\n",
      "94500/94500 [==============================] - 442s 5ms/step - loss: 0.0066 - accuracy: 0.9982 - val_loss: 0.6175 - val_accuracy: 0.9093\n",
      "val_f1: 0.9093 - val_precision: 0.9094 - val_recall: 0.9096\n",
      "Epoch 33/40\n",
      "94500/94500 [==============================] - 441s 5ms/step - loss: 0.0063 - accuracy: 0.9981 - val_loss: 0.6496 - val_accuracy: 0.9124\n",
      "val_f1: 0.9121 - val_precision: 0.9123 - val_recall: 0.9128\n",
      "Epoch 34/40\n",
      "94500/94500 [==============================] - 442s 5ms/step - loss: 0.0063 - accuracy: 0.9981 - val_loss: 0.6278 - val_accuracy: 0.9137\n",
      "val_f1: 0.9136 - val_precision: 0.9139 - val_recall: 0.9141\n",
      "Epoch 35/40\n",
      "94500/94500 [==============================] - 441s 5ms/step - loss: 0.0053 - accuracy: 0.9985 - val_loss: 0.6425 - val_accuracy: 0.9122\n",
      "val_f1: 0.9119 - val_precision: 0.9123 - val_recall: 0.9124\n",
      "Epoch 36/40\n",
      "94500/94500 [==============================] - 441s 5ms/step - loss: 0.0053 - accuracy: 0.9985 - val_loss: 0.6234 - val_accuracy: 0.9139\n",
      "val_f1: 0.9140 - val_precision: 0.9143 - val_recall: 0.9143\n",
      "Epoch 37/40\n",
      "94500/94500 [==============================] - 442s 5ms/step - loss: 0.0048 - accuracy: 0.9985 - val_loss: 0.6392 - val_accuracy: 0.9130\n",
      "val_f1: 0.9128 - val_precision: 0.9131 - val_recall: 0.9134\n",
      "Epoch 38/40\n",
      "94500/94500 [==============================] - 441s 5ms/step - loss: 0.0047 - accuracy: 0.9988 - val_loss: 0.6401 - val_accuracy: 0.9130\n",
      "val_f1: 0.9130 - val_precision: 0.9131 - val_recall: 0.9134\n",
      "Epoch 39/40\n",
      "94500/94500 [==============================] - 441s 5ms/step - loss: 0.0041 - accuracy: 0.9988 - val_loss: 0.6396 - val_accuracy: 0.9147\n",
      "val_f1: 0.9147 - val_precision: 0.9148 - val_recall: 0.9151\n",
      "Epoch 40/40\n",
      "94500/94500 [==============================] - 441s 5ms/step - loss: 0.0039 - accuracy: 0.9989 - val_loss: 0.6414 - val_accuracy: 0.9137\n",
      "val_f1: 0.9133 - val_precision: 0.9135 - val_recall: 0.9138\n",
      "Epoch 00040: early stopping\n",
      "Running time: 18168.465356826782 seconds\n"
     ]
    }
   ],
   "source": [
    "start_time = time()\n",
    "print('Training model...')\n",
    "\n",
    "\n",
    "hist = model.fit(\n",
    "    X_train, \n",
    "    y_train,\n",
    "    batch_size=batch_size,\n",
    "    epochs=epochs,\n",
    "    callbacks=[early_stopping,f1_metrics],\n",
    "    validation_data = (X_validate,y_validate))\n",
    "\n",
    "end_time = time()\n",
    "print('Running time: %s seconds'%(end_time - start_time))"
   ]
  },
  {
   "cell_type": "code",
   "execution_count": 30,
   "metadata": {},
   "outputs": [],
   "source": [
    "# parallel_model.save('/home/zxt/data/model/alex_basic_5k_224.h5')"
   ]
  },
  {
   "cell_type": "code",
   "execution_count": null,
   "metadata": {},
   "outputs": [],
   "source": []
  },
  {
   "cell_type": "code",
   "execution_count": null,
   "metadata": {},
   "outputs": [],
   "source": []
  },
  {
   "cell_type": "code",
   "execution_count": null,
   "metadata": {},
   "outputs": [],
   "source": []
  },
  {
   "cell_type": "code",
   "execution_count": 19,
   "metadata": {},
   "outputs": [],
   "source": [
    "model.save('/home/zxt/data/model/pre_final/alexnet_s_lr_5k_224_model.h5')"
   ]
  },
  {
   "cell_type": "code",
   "execution_count": 18,
   "metadata": {},
   "outputs": [],
   "source": [
    "model.save_weights('/home/zxt/data/model/pre_final/alexnet_s_lr_5k_224_modelweights.h5')"
   ]
  },
  {
   "cell_type": "markdown",
   "metadata": {},
   "source": [
    "### 4.Evaluation"
   ]
  },
  {
   "cell_type": "code",
   "execution_count": 21,
   "metadata": {},
   "outputs": [
    {
     "data": {
      "text/plain": [
       "<matplotlib.axes._subplots.AxesSubplot at 0x7fb02761c550>"
      ]
     },
     "execution_count": 21,
     "metadata": {},
     "output_type": "execute_result"
    },
    {
     "data": {
      "image/png": "[encoded data removed]",
      "text/plain": [
       "<Figure size 432x288 with 1 Axes>"
      ]
     },
     "metadata": {
      "needs_background": "light"
     },
     "output_type": "display_data"
    },
    {
     "data": {
      "image/png": "[encoded data removed]",
      "text/plain": [
       "<Figure size 432x288 with 1 Axes>"
      ]
     },
     "metadata": {
      "needs_background": "light"
     },
     "output_type": "display_data"
    }
   ],
   "source": [
    "history_df = pd.DataFrame(hist.history)\n",
    "history_df[['loss', 'val_loss']].plot()\n",
    "history_df[['accuracy', 'val_accuracy']].plot()"
   ]
  },
  {
   "cell_type": "markdown",
   "metadata": {},
   "source": [
    "### 5.Prediction on X_test dataset"
   ]
  },
  {
   "cell_type": "code",
   "execution_count": 22,
   "metadata": {},
   "outputs": [
    {
     "name": "stdout",
     "output_type": "stream",
     "text": [
      "5250/5250 [==============================] - 11s 2ms/step\n",
      "\n",
      "test loss 0.6121435704146113\n",
      "accuracy 0.914476215839386\n"
     ]
    }
   ],
   "source": [
    "loss,accuracy = model.evaluate(X_test,y_test)\n",
    "print('\\ntest loss',loss)\n",
    "print('accuracy',accuracy)"
   ]
  },
  {
   "cell_type": "code",
   "execution_count": 23,
   "metadata": {},
   "outputs": [],
   "source": [
    "y_pred = model.predict(X_test,batch_size=1)"
   ]
  },
  {
   "cell_type": "code",
   "execution_count": 24,
   "metadata": {},
   "outputs": [
    {
     "data": {
      "text/plain": [
       "array([[4.39944611e-17, 2.45617650e-14, 1.87593965e-20, ...,\n",
       "        5.41113446e-20, 1.29389246e-17, 3.31867244e-17],\n",
       "       [2.14711437e-17, 2.36130831e-13, 4.37362868e-16, ...,\n",
       "        8.77714731e-19, 8.98858708e-18, 8.12236056e-09],\n",
       "       [6.35984277e-12, 7.11188400e-11, 8.87984825e-11, ...,\n",
       "        2.98422121e-13, 2.73077183e-09, 6.46601772e-10],\n",
       "       ...,\n",
       "       [6.95694431e-17, 7.46970506e-14, 1.94558422e-18, ...,\n",
       "        8.78506717e-20, 2.31219186e-19, 1.04906970e-14],\n",
       "       [9.64880112e-16, 1.47139923e-14, 2.08265999e-16, ...,\n",
       "        1.06317330e-19, 3.79081922e-12, 2.63901458e-15],\n",
       "       [2.54233604e-16, 4.24140193e-12, 7.55256182e-14, ...,\n",
       "        1.19923787e-18, 7.64593009e-15, 8.34581032e-02]], dtype=float32)"
      ]
     },
     "execution_count": 24,
     "metadata": {},
     "output_type": "execute_result"
    }
   ],
   "source": [
    "y_pred"
   ]
  },
  {
   "cell_type": "code",
   "execution_count": 25,
   "metadata": {},
   "outputs": [
    {
     "data": {
      "text/plain": [
       "5250"
      ]
     },
     "execution_count": 25,
     "metadata": {},
     "output_type": "execute_result"
    }
   ],
   "source": [
    "len(y_pred)"
   ]
  },
  {
   "cell_type": "markdown",
   "metadata": {},
   "source": [
    "### 6.Check each categoryaccuracy"
   ]
  },
  {
   "cell_type": "code",
   "execution_count": 26,
   "metadata": {},
   "outputs": [],
   "source": [
    "a = list(y_pred)\n",
    "y_prediction=[]\n",
    "for i in a:\n",
    "    j =list(i)\n",
    "    y_prediction.append(j.index(max(j)))"
   ]
  },
  {
   "cell_type": "code",
   "execution_count": 27,
   "metadata": {},
   "outputs": [
    {
     "data": {
      "text/plain": [
       "[13, 7, 12, 2, 0]"
      ]
     },
     "execution_count": 27,
     "metadata": {},
     "output_type": "execute_result"
    }
   ],
   "source": [
    "y_prediction[:5]"
   ]
  },
  {
   "cell_type": "code",
   "execution_count": 28,
   "metadata": {},
   "outputs": [
    {
     "data": {
      "text/plain": [
       "array([['13'],\n",
       "       ['7'],\n",
       "       ['12'],\n",
       "       ['2'],\n",
       "       ['0']], dtype='<U16')"
      ]
     },
     "execution_count": 28,
     "metadata": {},
     "output_type": "execute_result"
    }
   ],
   "source": [
    "Y_test[:5]"
   ]
  },
  {
   "cell_type": "code",
   "execution_count": 29,
   "metadata": {},
   "outputs": [],
   "source": [
    "# array to dataframe\n",
    "y_real=pd.DataFrame(Y_test,columns=['label'])"
   ]
  },
  {
   "cell_type": "code",
   "execution_count": 30,
   "metadata": {},
   "outputs": [
    {
     "data": {
      "text/html": [
       "<div>\n",
       "<style scoped>\n",
       "    .dataframe tbody tr th:only-of-type {\n",
       "        vertical-align: middle;\n",
       "    }\n",
       "\n",
       "    .dataframe tbody tr th {\n",
       "        vertical-align: top;\n",
       "    }\n",
       "\n",
       "    .dataframe thead th {\n",
       "        text-align: right;\n",
       "    }\n",
       "</style>\n",
       "<table border=\"1\" class=\"dataframe\">\n",
       "  <thead>\n",
       "    <tr style=\"text-align: right;\">\n",
       "      <th></th>\n",
       "      <th>label</th>\n",
       "    </tr>\n",
       "  </thead>\n",
       "  <tbody>\n",
       "    <tr>\n",
       "      <td>0</td>\n",
       "      <td>13</td>\n",
       "    </tr>\n",
       "    <tr>\n",
       "      <td>1</td>\n",
       "      <td>7</td>\n",
       "    </tr>\n",
       "  </tbody>\n",
       "</table>\n",
       "</div>"
      ],
      "text/plain": [
       "  label\n",
       "0    13\n",
       "1     7"
      ]
     },
     "execution_count": 30,
     "metadata": {},
     "output_type": "execute_result"
    }
   ],
   "source": [
    "y_real.head(2)"
   ]
  },
  {
   "cell_type": "code",
   "execution_count": 31,
   "metadata": {},
   "outputs": [],
   "source": [
    "y_predict = pd.DataFrame(y_prediction,columns=['label_pre'])"
   ]
  },
  {
   "cell_type": "code",
   "execution_count": 32,
   "metadata": {},
   "outputs": [
    {
     "data": {
      "text/html": [
       "<div>\n",
       "<style scoped>\n",
       "    .dataframe tbody tr th:only-of-type {\n",
       "        vertical-align: middle;\n",
       "    }\n",
       "\n",
       "    .dataframe tbody tr th {\n",
       "        vertical-align: top;\n",
       "    }\n",
       "\n",
       "    .dataframe thead th {\n",
       "        text-align: right;\n",
       "    }\n",
       "</style>\n",
       "<table border=\"1\" class=\"dataframe\">\n",
       "  <thead>\n",
       "    <tr style=\"text-align: right;\">\n",
       "      <th></th>\n",
       "      <th>label_pre</th>\n",
       "    </tr>\n",
       "  </thead>\n",
       "  <tbody>\n",
       "    <tr>\n",
       "      <td>0</td>\n",
       "      <td>13</td>\n",
       "    </tr>\n",
       "    <tr>\n",
       "      <td>1</td>\n",
       "      <td>7</td>\n",
       "    </tr>\n",
       "  </tbody>\n",
       "</table>\n",
       "</div>"
      ],
      "text/plain": [
       "   label_pre\n",
       "0         13\n",
       "1          7"
      ]
     },
     "execution_count": 32,
     "metadata": {},
     "output_type": "execute_result"
    }
   ],
   "source": [
    "\n",
    "y_predict.head(2)"
   ]
  },
  {
   "cell_type": "code",
   "execution_count": 33,
   "metadata": {},
   "outputs": [],
   "source": [
    "prediction_df = pd.concat([y_real,y_predict],axis=1)\n",
    "prediction_df['label']=prediction_df['label'].astype(int)\n",
    "prediction_df['diff']=prediction_df['label']-prediction_df['label_pre']\n"
   ]
  },
  {
   "cell_type": "code",
   "execution_count": 34,
   "metadata": {},
   "outputs": [
    {
     "data": {
      "text/html": [
       "<div>\n",
       "<style scoped>\n",
       "    .dataframe tbody tr th:only-of-type {\n",
       "        vertical-align: middle;\n",
       "    }\n",
       "\n",
       "    .dataframe tbody tr th {\n",
       "        vertical-align: top;\n",
       "    }\n",
       "\n",
       "    .dataframe thead th {\n",
       "        text-align: right;\n",
       "    }\n",
       "</style>\n",
       "<table border=\"1\" class=\"dataframe\">\n",
       "  <thead>\n",
       "    <tr style=\"text-align: right;\">\n",
       "      <th></th>\n",
       "      <th>label</th>\n",
       "      <th>label_pre</th>\n",
       "      <th>diff</th>\n",
       "    </tr>\n",
       "  </thead>\n",
       "  <tbody>\n",
       "    <tr>\n",
       "      <td>0</td>\n",
       "      <td>13</td>\n",
       "      <td>13</td>\n",
       "      <td>0</td>\n",
       "    </tr>\n",
       "    <tr>\n",
       "      <td>1</td>\n",
       "      <td>7</td>\n",
       "      <td>7</td>\n",
       "      <td>0</td>\n",
       "    </tr>\n",
       "    <tr>\n",
       "      <td>2</td>\n",
       "      <td>12</td>\n",
       "      <td>12</td>\n",
       "      <td>0</td>\n",
       "    </tr>\n",
       "    <tr>\n",
       "      <td>3</td>\n",
       "      <td>2</td>\n",
       "      <td>2</td>\n",
       "      <td>0</td>\n",
       "    </tr>\n",
       "    <tr>\n",
       "      <td>4</td>\n",
       "      <td>0</td>\n",
       "      <td>0</td>\n",
       "      <td>0</td>\n",
       "    </tr>\n",
       "    <tr>\n",
       "      <td>...</td>\n",
       "      <td>...</td>\n",
       "      <td>...</td>\n",
       "      <td>...</td>\n",
       "    </tr>\n",
       "    <tr>\n",
       "      <td>5245</td>\n",
       "      <td>12</td>\n",
       "      <td>12</td>\n",
       "      <td>0</td>\n",
       "    </tr>\n",
       "    <tr>\n",
       "      <td>5246</td>\n",
       "      <td>11</td>\n",
       "      <td>11</td>\n",
       "      <td>0</td>\n",
       "    </tr>\n",
       "    <tr>\n",
       "      <td>5247</td>\n",
       "      <td>15</td>\n",
       "      <td>15</td>\n",
       "      <td>0</td>\n",
       "    </tr>\n",
       "    <tr>\n",
       "      <td>5248</td>\n",
       "      <td>13</td>\n",
       "      <td>13</td>\n",
       "      <td>0</td>\n",
       "    </tr>\n",
       "    <tr>\n",
       "      <td>5249</td>\n",
       "      <td>16</td>\n",
       "      <td>9</td>\n",
       "      <td>7</td>\n",
       "    </tr>\n",
       "  </tbody>\n",
       "</table>\n",
       "<p>5250 rows × 3 columns</p>\n",
       "</div>"
      ],
      "text/plain": [
       "      label  label_pre  diff\n",
       "0        13         13     0\n",
       "1         7          7     0\n",
       "2        12         12     0\n",
       "3         2          2     0\n",
       "4         0          0     0\n",
       "...     ...        ...   ...\n",
       "5245     12         12     0\n",
       "5246     11         11     0\n",
       "5247     15         15     0\n",
       "5248     13         13     0\n",
       "5249     16          9     7\n",
       "\n",
       "[5250 rows x 3 columns]"
      ]
     },
     "execution_count": 34,
     "metadata": {},
     "output_type": "execute_result"
    }
   ],
   "source": [
    "prediction_df"
   ]
  },
  {
   "cell_type": "code",
   "execution_count": 35,
   "metadata": {},
   "outputs": [],
   "source": [
    "prediction_df.to_csv(r'/home/zxt/data/results/prediction_df_5k_alex_s.csv',index=False)"
   ]
  },
  {
   "cell_type": "code",
   "execution_count": 36,
   "metadata": {},
   "outputs": [
    {
     "name": "stdout",
     "output_type": "stream",
     "text": [
      "elephant acc:      0.849\n",
      "wild_boar acc:      0.826\n",
      "gazellethomosons acc:      0.953\n",
      "squirrel acc:      0.952\n",
      "hedgehog acc:      0.996\n",
      "guineafowl acc:      0.968\n",
      "moose acc:      0.989\n",
      "coyote acc:      0.927\n",
      "bird acc:      0.890\n",
      "fox acc:      0.923\n",
      "giraffe acc:      0.948\n",
      "buffalo acc:      0.858\n",
      "hare acc:      0.966\n",
      "vehicle acc:      0.958\n",
      "wildebeest acc:      0.822\n",
      "cattle acc:      0.758\n",
      "skunk acc:      0.953\n",
      "lion acc:      0.872\n",
      "zebra acc:      0.873\n",
      "black_bear acc:      0.923\n",
      "racoon acc:      0.961\n"
     ]
    }
   ],
   "source": [
    "onehot_keylist = ['elephant','wild_boar','gazellethomosons','squirrel','hedgehog','guineafowl','moose','coyote','bird',\n",
    "                  'fox','giraffe','buffalo','hare','vehicle','wildebeest','cattle','skunk','lion','zebra','black_bear',\n",
    "                  'racoon']\n",
    "onehot_dict = {'elephant':0,'wild_boar':1,'gazellethomosons':2,'squirrel':3,'hedgehog':4,'guineafowl':5,'moose':6,'coyote':7,\n",
    "              'bird':8,'fox':9,'giraffe':10,'buffalo':11,'hare':12,'vehicle':13,'wildebeest':14,'cattle':15,'skunk':16,'lion':17,\n",
    "              'zebra':18,'black_bear':19,'racoon':20}\n",
    "\n",
    "for animal in onehot_keylist:\n",
    "    name = animal\n",
    "    animal = prediction_df[prediction_df['label']== onehot_dict[animal]]\n",
    "    acc = animal.loc[:,'diff'].value_counts()[0]/len(animal)\n",
    "    print(\"%s acc: %10.3f\" %(name,acc) )"
   ]
  },
  {
   "cell_type": "code",
   "execution_count": null,
   "metadata": {},
   "outputs": [],
   "source": []
  },
  {
   "cell_type": "code",
   "execution_count": null,
   "metadata": {},
   "outputs": [],
   "source": []
  }
 ],
 "metadata": {
  "kernelspec": {
   "display_name": "Python 3",
   "language": "python",
   "name": "python3"
  },
  "language_info": {
   "codemirror_mode": {
    "name": "ipython",
    "version": 3
   },
   "file_extension": ".py",
   "mimetype": "text/x-python",
   "name": "python",
   "nbconvert_exporter": "python",
   "pygments_lexer": "ipython3",
   "version": "3.7.4"
  }
 },
 "nbformat": 4,
 "nbformat_minor": 4
}
